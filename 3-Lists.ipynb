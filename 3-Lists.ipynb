{
 "cells": [
  {
   "cell_type": "code",
   "execution_count": 3,
   "metadata": {
    "execution": {
     "iopub.execute_input": "2025-06-19T12:58:48.396522Z",
     "iopub.status.busy": "2025-06-19T12:58:48.395406Z",
     "iopub.status.idle": "2025-06-19T12:58:48.400031Z",
     "shell.execute_reply": "2025-06-19T12:58:48.399275Z",
     "shell.execute_reply.started": "2025-06-19T12:58:48.396486Z"
    }
   },
   "outputs": [],
   "source": [
    "myString = \"hello python\""
   ]
  },
  {
   "cell_type": "code",
   "execution_count": 4,
   "metadata": {
    "execution": {
     "iopub.execute_input": "2025-06-19T12:58:48.788413Z",
     "iopub.status.busy": "2025-06-19T12:58:48.787628Z",
     "iopub.status.idle": "2025-06-19T12:58:48.794998Z",
     "shell.execute_reply": "2025-06-19T12:58:48.794034Z",
     "shell.execute_reply.started": "2025-06-19T12:58:48.788367Z"
    }
   },
   "outputs": [
    {
     "data": {
      "text/plain": [
       "['hello', 'python']"
      ]
     },
     "execution_count": 4,
     "metadata": {},
     "output_type": "execute_result"
    }
   ],
   "source": [
    "myString.split()"
   ]
  },
  {
   "cell_type": "code",
   "execution_count": 5,
   "metadata": {
    "execution": {
     "iopub.execute_input": "2025-06-19T12:58:48.977728Z",
     "iopub.status.busy": "2025-06-19T12:58:48.977092Z",
     "iopub.status.idle": "2025-06-19T12:58:48.982393Z",
     "shell.execute_reply": "2025-06-19T12:58:48.981519Z",
     "shell.execute_reply.started": "2025-06-19T12:58:48.977707Z"
    }
   },
   "outputs": [
    {
     "data": {
      "text/plain": [
       "list"
      ]
     },
     "execution_count": 5,
     "metadata": {},
     "output_type": "execute_result"
    }
   ],
   "source": [
    "type(myString.split())"
   ]
  },
  {
   "cell_type": "code",
   "execution_count": 6,
   "metadata": {
    "execution": {
     "iopub.execute_input": "2025-06-19T12:58:49.119520Z",
     "iopub.status.busy": "2025-06-19T12:58:49.119009Z",
     "iopub.status.idle": "2025-06-19T12:58:49.122565Z",
     "shell.execute_reply": "2025-06-19T12:58:49.121968Z",
     "shell.execute_reply.started": "2025-06-19T12:58:49.119498Z"
    }
   },
   "outputs": [],
   "source": [
    "# list"
   ]
  },
  {
   "cell_type": "code",
   "execution_count": 7,
   "metadata": {
    "execution": {
     "iopub.execute_input": "2025-06-19T12:58:49.298473Z",
     "iopub.status.busy": "2025-06-19T12:58:49.298054Z",
     "iopub.status.idle": "2025-06-19T12:58:49.302802Z",
     "shell.execute_reply": "2025-06-19T12:58:49.302197Z",
     "shell.execute_reply.started": "2025-06-19T12:58:49.298453Z"
    }
   },
   "outputs": [
    {
     "data": {
      "text/plain": [
       "'hello python'"
      ]
     },
     "execution_count": 7,
     "metadata": {},
     "output_type": "execute_result"
    }
   ],
   "source": [
    "myString"
   ]
  },
  {
   "cell_type": "code",
   "execution_count": 8,
   "metadata": {
    "execution": {
     "iopub.execute_input": "2025-06-19T12:58:49.479405Z",
     "iopub.status.busy": "2025-06-19T12:58:49.478677Z",
     "iopub.status.idle": "2025-06-19T12:58:49.483339Z",
     "shell.execute_reply": "2025-06-19T12:58:49.482850Z",
     "shell.execute_reply.started": "2025-06-19T12:58:49.479382Z"
    }
   },
   "outputs": [
    {
     "data": {
      "text/plain": [
       "'h'"
      ]
     },
     "execution_count": 8,
     "metadata": {},
     "output_type": "execute_result"
    }
   ],
   "source": [
    "myString[0]"
   ]
  },
  {
   "cell_type": "code",
   "execution_count": 9,
   "metadata": {
    "execution": {
     "iopub.execute_input": "2025-06-19T12:58:49.651426Z",
     "iopub.status.busy": "2025-06-19T12:58:49.651220Z",
     "iopub.status.idle": "2025-06-19T12:58:49.654512Z",
     "shell.execute_reply": "2025-06-19T12:58:49.653951Z",
     "shell.execute_reply.started": "2025-06-19T12:58:49.651412Z"
    }
   },
   "outputs": [],
   "source": [
    "#myString[0] = \"a\""
   ]
  },
  {
   "cell_type": "code",
   "execution_count": 10,
   "metadata": {
    "execution": {
     "iopub.execute_input": "2025-06-19T12:58:49.815107Z",
     "iopub.status.busy": "2025-06-19T12:58:49.814865Z",
     "iopub.status.idle": "2025-06-19T12:58:49.819131Z",
     "shell.execute_reply": "2025-06-19T12:58:49.818496Z",
     "shell.execute_reply.started": "2025-06-19T12:58:49.815093Z"
    }
   },
   "outputs": [],
   "source": [
    "#immutable - immutability"
   ]
  },
  {
   "cell_type": "code",
   "execution_count": 11,
   "metadata": {
    "execution": {
     "iopub.execute_input": "2025-06-19T12:58:50.196058Z",
     "iopub.status.busy": "2025-06-19T12:58:50.195390Z",
     "iopub.status.idle": "2025-06-19T12:58:50.198521Z",
     "shell.execute_reply": "2025-06-19T12:58:50.197915Z",
     "shell.execute_reply.started": "2025-06-19T12:58:50.196040Z"
    }
   },
   "outputs": [],
   "source": [
    "myString = \"emre\""
   ]
  },
  {
   "cell_type": "markdown",
   "metadata": {},
   "source": [
    "# list"
   ]
  },
  {
   "cell_type": "code",
   "execution_count": 12,
   "metadata": {
    "execution": {
     "iopub.execute_input": "2025-06-19T12:58:50.957087Z",
     "iopub.status.busy": "2025-06-19T12:58:50.956408Z",
     "iopub.status.idle": "2025-06-19T12:58:50.959754Z",
     "shell.execute_reply": "2025-06-19T12:58:50.959227Z",
     "shell.execute_reply.started": "2025-06-19T12:58:50.957059Z"
    }
   },
   "outputs": [],
   "source": [
    "myList = [10,20,30]"
   ]
  },
  {
   "cell_type": "code",
   "execution_count": 13,
   "metadata": {
    "execution": {
     "iopub.execute_input": "2025-06-19T12:58:51.138538Z",
     "iopub.status.busy": "2025-06-19T12:58:51.138100Z",
     "iopub.status.idle": "2025-06-19T12:58:51.142357Z",
     "shell.execute_reply": "2025-06-19T12:58:51.141737Z",
     "shell.execute_reply.started": "2025-06-19T12:58:51.138520Z"
    }
   },
   "outputs": [
    {
     "data": {
      "text/plain": [
       "list"
      ]
     },
     "execution_count": 13,
     "metadata": {},
     "output_type": "execute_result"
    }
   ],
   "source": [
    "type(myList)"
   ]
  },
  {
   "cell_type": "code",
   "execution_count": 14,
   "metadata": {
    "execution": {
     "iopub.execute_input": "2025-06-19T12:58:51.320526Z",
     "iopub.status.busy": "2025-06-19T12:58:51.320323Z",
     "iopub.status.idle": "2025-06-19T12:58:51.323946Z",
     "shell.execute_reply": "2025-06-19T12:58:51.323399Z",
     "shell.execute_reply.started": "2025-06-19T12:58:51.320511Z"
    }
   },
   "outputs": [],
   "source": [
    "x = 10\n",
    "y = 20\n",
    "z = 30"
   ]
  },
  {
   "cell_type": "code",
   "execution_count": 15,
   "metadata": {
    "execution": {
     "iopub.execute_input": "2025-06-19T12:58:51.512128Z",
     "iopub.status.busy": "2025-06-19T12:58:51.511919Z",
     "iopub.status.idle": "2025-06-19T12:58:51.515005Z",
     "shell.execute_reply": "2025-06-19T12:58:51.514493Z",
     "shell.execute_reply.started": "2025-06-19T12:58:51.512112Z"
    }
   },
   "outputs": [],
   "source": [
    "myList = [x,y,z]"
   ]
  },
  {
   "cell_type": "code",
   "execution_count": 16,
   "metadata": {
    "execution": {
     "iopub.execute_input": "2025-06-19T12:58:51.696896Z",
     "iopub.status.busy": "2025-06-19T12:58:51.695947Z",
     "iopub.status.idle": "2025-06-19T12:58:51.701040Z",
     "shell.execute_reply": "2025-06-19T12:58:51.700482Z",
     "shell.execute_reply.started": "2025-06-19T12:58:51.696860Z"
    }
   },
   "outputs": [
    {
     "data": {
      "text/plain": [
       "[10, 20, 30]"
      ]
     },
     "execution_count": 16,
     "metadata": {},
     "output_type": "execute_result"
    }
   ],
   "source": [
    "myList"
   ]
  },
  {
   "cell_type": "code",
   "execution_count": 17,
   "metadata": {
    "execution": {
     "iopub.execute_input": "2025-06-19T12:58:51.878078Z",
     "iopub.status.busy": "2025-06-19T12:58:51.877734Z",
     "iopub.status.idle": "2025-06-19T12:58:51.881193Z",
     "shell.execute_reply": "2025-06-19T12:58:51.880537Z",
     "shell.execute_reply.started": "2025-06-19T12:58:51.878059Z"
    }
   },
   "outputs": [],
   "source": [
    "myList = [10,20,30,40,50,60,70]"
   ]
  },
  {
   "cell_type": "code",
   "execution_count": 18,
   "metadata": {
    "execution": {
     "iopub.execute_input": "2025-06-19T12:58:52.061428Z",
     "iopub.status.busy": "2025-06-19T12:58:52.061020Z",
     "iopub.status.idle": "2025-06-19T12:58:52.065427Z",
     "shell.execute_reply": "2025-06-19T12:58:52.064925Z",
     "shell.execute_reply.started": "2025-06-19T12:58:52.061403Z"
    }
   },
   "outputs": [
    {
     "data": {
      "text/plain": [
       "10"
      ]
     },
     "execution_count": 18,
     "metadata": {},
     "output_type": "execute_result"
    }
   ],
   "source": [
    "myList[0]"
   ]
  },
  {
   "cell_type": "code",
   "execution_count": 19,
   "metadata": {
    "execution": {
     "iopub.execute_input": "2025-06-19T12:58:52.576227Z",
     "iopub.status.busy": "2025-06-19T12:58:52.576010Z",
     "iopub.status.idle": "2025-06-19T12:58:52.580913Z",
     "shell.execute_reply": "2025-06-19T12:58:52.580298Z",
     "shell.execute_reply.started": "2025-06-19T12:58:52.576212Z"
    }
   },
   "outputs": [
    {
     "data": {
      "text/plain": [
       "list"
      ]
     },
     "execution_count": 19,
     "metadata": {},
     "output_type": "execute_result"
    }
   ],
   "source": [
    "type(myList)"
   ]
  },
  {
   "cell_type": "code",
   "execution_count": 20,
   "metadata": {
    "execution": {
     "iopub.execute_input": "2025-06-19T12:58:52.740535Z",
     "iopub.status.busy": "2025-06-19T12:58:52.740305Z",
     "iopub.status.idle": "2025-06-19T12:58:52.745270Z",
     "shell.execute_reply": "2025-06-19T12:58:52.744690Z",
     "shell.execute_reply.started": "2025-06-19T12:58:52.740521Z"
    }
   },
   "outputs": [
    {
     "data": {
      "text/plain": [
       "int"
      ]
     },
     "execution_count": 20,
     "metadata": {},
     "output_type": "execute_result"
    }
   ],
   "source": [
    "type(myList[0])"
   ]
  },
  {
   "cell_type": "code",
   "execution_count": 21,
   "metadata": {
    "execution": {
     "iopub.execute_input": "2025-06-19T12:58:52.907028Z",
     "iopub.status.busy": "2025-06-19T12:58:52.906828Z",
     "iopub.status.idle": "2025-06-19T12:58:52.911235Z",
     "shell.execute_reply": "2025-06-19T12:58:52.910499Z",
     "shell.execute_reply.started": "2025-06-19T12:58:52.907015Z"
    }
   },
   "outputs": [
    {
     "data": {
      "text/plain": [
       "10"
      ]
     },
     "execution_count": 21,
     "metadata": {},
     "output_type": "execute_result"
    }
   ],
   "source": [
    "myList[0]"
   ]
  },
  {
   "cell_type": "code",
   "execution_count": 22,
   "metadata": {
    "execution": {
     "iopub.execute_input": "2025-06-19T12:58:53.402931Z",
     "iopub.status.busy": "2025-06-19T12:58:53.402702Z",
     "iopub.status.idle": "2025-06-19T12:58:53.406054Z",
     "shell.execute_reply": "2025-06-19T12:58:53.405528Z",
     "shell.execute_reply.started": "2025-06-19T12:58:53.402917Z"
    }
   },
   "outputs": [],
   "source": [
    "myList[0] = 100"
   ]
  },
  {
   "cell_type": "code",
   "execution_count": 23,
   "metadata": {
    "execution": {
     "iopub.execute_input": "2025-06-19T12:58:54.114859Z",
     "iopub.status.busy": "2025-06-19T12:58:54.114640Z",
     "iopub.status.idle": "2025-06-19T12:58:54.118021Z",
     "shell.execute_reply": "2025-06-19T12:58:54.117457Z",
     "shell.execute_reply.started": "2025-06-19T12:58:54.114846Z"
    }
   },
   "outputs": [],
   "source": [
    "#mutable, mutability"
   ]
  },
  {
   "cell_type": "code",
   "execution_count": 24,
   "metadata": {
    "execution": {
     "iopub.execute_input": "2025-06-19T12:58:54.568835Z",
     "iopub.status.busy": "2025-06-19T12:58:54.568409Z",
     "iopub.status.idle": "2025-06-19T12:58:54.572572Z",
     "shell.execute_reply": "2025-06-19T12:58:54.572076Z",
     "shell.execute_reply.started": "2025-06-19T12:58:54.568818Z"
    }
   },
   "outputs": [
    {
     "data": {
      "text/plain": [
       "[100, 20, 30, 40, 50, 60, 70]"
      ]
     },
     "execution_count": 24,
     "metadata": {},
     "output_type": "execute_result"
    }
   ],
   "source": [
    "myList"
   ]
  },
  {
   "cell_type": "code",
   "execution_count": 25,
   "metadata": {
    "execution": {
     "iopub.execute_input": "2025-06-19T12:58:54.997314Z",
     "iopub.status.busy": "2025-06-19T12:58:54.997080Z",
     "iopub.status.idle": "2025-06-19T12:58:55.001657Z",
     "shell.execute_reply": "2025-06-19T12:58:55.000985Z",
     "shell.execute_reply.started": "2025-06-19T12:58:54.997298Z"
    }
   },
   "outputs": [
    {
     "data": {
      "text/plain": [
       "7"
      ]
     },
     "execution_count": 25,
     "metadata": {},
     "output_type": "execute_result"
    }
   ],
   "source": [
    "len(myList)"
   ]
  },
  {
   "cell_type": "code",
   "execution_count": 26,
   "metadata": {
    "execution": {
     "iopub.execute_input": "2025-06-19T12:58:56.098893Z",
     "iopub.status.busy": "2025-06-19T12:58:56.098634Z",
     "iopub.status.idle": "2025-06-19T12:58:56.103474Z",
     "shell.execute_reply": "2025-06-19T12:58:56.102811Z",
     "shell.execute_reply.started": "2025-06-19T12:58:56.098874Z"
    }
   },
   "outputs": [
    {
     "data": {
      "text/plain": [
       "70"
      ]
     },
     "execution_count": 26,
     "metadata": {},
     "output_type": "execute_result"
    }
   ],
   "source": [
    "myList[len(myList)-1]"
   ]
  },
  {
   "cell_type": "code",
   "execution_count": 27,
   "metadata": {
    "execution": {
     "iopub.execute_input": "2025-06-19T12:58:56.767139Z",
     "iopub.status.busy": "2025-06-19T12:58:56.766876Z",
     "iopub.status.idle": "2025-06-19T12:58:56.771907Z",
     "shell.execute_reply": "2025-06-19T12:58:56.771382Z",
     "shell.execute_reply.started": "2025-06-19T12:58:56.767121Z"
    }
   },
   "outputs": [
    {
     "data": {
      "text/plain": [
       "70"
      ]
     },
     "execution_count": 27,
     "metadata": {},
     "output_type": "execute_result"
    }
   ],
   "source": [
    "myList[-1]"
   ]
  },
  {
   "cell_type": "code",
   "execution_count": 28,
   "metadata": {
    "execution": {
     "iopub.execute_input": "2025-06-19T12:58:57.047584Z",
     "iopub.status.busy": "2025-06-19T12:58:57.047312Z",
     "iopub.status.idle": "2025-06-19T12:58:57.051702Z",
     "shell.execute_reply": "2025-06-19T12:58:57.051123Z",
     "shell.execute_reply.started": "2025-06-19T12:58:57.047569Z"
    }
   },
   "outputs": [
    {
     "data": {
      "text/plain": [
       "60"
      ]
     },
     "execution_count": 28,
     "metadata": {},
     "output_type": "execute_result"
    }
   ],
   "source": [
    "myList[-2]"
   ]
  },
  {
   "cell_type": "code",
   "execution_count": 29,
   "metadata": {
    "execution": {
     "iopub.execute_input": "2025-06-19T12:58:57.590653Z",
     "iopub.status.busy": "2025-06-19T12:58:57.590421Z",
     "iopub.status.idle": "2025-06-19T12:58:57.594731Z",
     "shell.execute_reply": "2025-06-19T12:58:57.594270Z",
     "shell.execute_reply.started": "2025-06-19T12:58:57.590639Z"
    }
   },
   "outputs": [
    {
     "data": {
      "text/plain": [
       "[100, 20, 30, 40, 50, 60, 70]"
      ]
     },
     "execution_count": 29,
     "metadata": {},
     "output_type": "execute_result"
    }
   ],
   "source": [
    "myList"
   ]
  },
  {
   "cell_type": "code",
   "execution_count": 30,
   "metadata": {
    "execution": {
     "iopub.execute_input": "2025-06-19T12:58:59.498997Z",
     "iopub.status.busy": "2025-06-19T12:58:59.498707Z",
     "iopub.status.idle": "2025-06-19T12:58:59.503104Z",
     "shell.execute_reply": "2025-06-19T12:58:59.502274Z",
     "shell.execute_reply.started": "2025-06-19T12:58:59.498981Z"
    }
   },
   "outputs": [],
   "source": [
    "myList.append(80)"
   ]
  },
  {
   "cell_type": "code",
   "execution_count": 31,
   "metadata": {
    "execution": {
     "iopub.execute_input": "2025-06-19T12:59:00.453538Z",
     "iopub.status.busy": "2025-06-19T12:59:00.453331Z",
     "iopub.status.idle": "2025-06-19T12:59:00.458081Z",
     "shell.execute_reply": "2025-06-19T12:59:00.457072Z",
     "shell.execute_reply.started": "2025-06-19T12:59:00.453525Z"
    }
   },
   "outputs": [
    {
     "data": {
      "text/plain": [
       "[100, 20, 30, 40, 50, 60, 70, 80]"
      ]
     },
     "execution_count": 31,
     "metadata": {},
     "output_type": "execute_result"
    }
   ],
   "source": [
    "myList"
   ]
  },
  {
   "cell_type": "code",
   "execution_count": 32,
   "metadata": {
    "execution": {
     "iopub.execute_input": "2025-06-19T12:59:07.643082Z",
     "iopub.status.busy": "2025-06-19T12:59:07.642825Z",
     "iopub.status.idle": "2025-06-19T12:59:07.646417Z",
     "shell.execute_reply": "2025-06-19T12:59:07.645839Z",
     "shell.execute_reply.started": "2025-06-19T12:59:07.643065Z"
    }
   },
   "outputs": [],
   "source": [
    "myList.append(1)"
   ]
  },
  {
   "cell_type": "code",
   "execution_count": 33,
   "metadata": {
    "execution": {
     "iopub.execute_input": "2025-06-19T12:59:08.329590Z",
     "iopub.status.busy": "2025-06-19T12:59:08.329227Z",
     "iopub.status.idle": "2025-06-19T12:59:08.333671Z",
     "shell.execute_reply": "2025-06-19T12:59:08.332789Z",
     "shell.execute_reply.started": "2025-06-19T12:59:08.329572Z"
    }
   },
   "outputs": [
    {
     "data": {
      "text/plain": [
       "[100, 20, 30, 40, 50, 60, 70, 80, 1]"
      ]
     },
     "execution_count": 33,
     "metadata": {},
     "output_type": "execute_result"
    }
   ],
   "source": [
    "myList"
   ]
  },
  {
   "cell_type": "code",
   "execution_count": 34,
   "metadata": {
    "execution": {
     "iopub.execute_input": "2025-06-19T12:59:11.563079Z",
     "iopub.status.busy": "2025-06-19T12:59:11.562743Z",
     "iopub.status.idle": "2025-06-19T12:59:11.566911Z",
     "shell.execute_reply": "2025-06-19T12:59:11.566277Z",
     "shell.execute_reply.started": "2025-06-19T12:59:11.563063Z"
    }
   },
   "outputs": [
    {
     "data": {
      "text/plain": [
       "9"
      ]
     },
     "execution_count": 34,
     "metadata": {},
     "output_type": "execute_result"
    }
   ],
   "source": [
    "len(myList)"
   ]
  },
  {
   "cell_type": "code",
   "execution_count": 35,
   "metadata": {
    "execution": {
     "iopub.execute_input": "2025-06-19T12:59:15.620787Z",
     "iopub.status.busy": "2025-06-19T12:59:15.620568Z",
     "iopub.status.idle": "2025-06-19T12:59:15.625832Z",
     "shell.execute_reply": "2025-06-19T12:59:15.625078Z",
     "shell.execute_reply.started": "2025-06-19T12:59:15.620771Z"
    }
   },
   "outputs": [
    {
     "data": {
      "text/plain": [
       "1"
      ]
     },
     "execution_count": 35,
     "metadata": {},
     "output_type": "execute_result"
    }
   ],
   "source": [
    "myList.count(20)"
   ]
  },
  {
   "cell_type": "code",
   "execution_count": 36,
   "metadata": {
    "execution": {
     "iopub.execute_input": "2025-06-19T12:59:16.240317Z",
     "iopub.status.busy": "2025-06-19T12:59:16.239823Z",
     "iopub.status.idle": "2025-06-19T12:59:16.244347Z",
     "shell.execute_reply": "2025-06-19T12:59:16.243733Z",
     "shell.execute_reply.started": "2025-06-19T12:59:16.240299Z"
    }
   },
   "outputs": [
    {
     "data": {
      "text/plain": [
       "0"
      ]
     },
     "execution_count": 36,
     "metadata": {},
     "output_type": "execute_result"
    }
   ],
   "source": [
    "myList.count(25)"
   ]
  },
  {
   "cell_type": "code",
   "execution_count": 37,
   "metadata": {
    "execution": {
     "iopub.execute_input": "2025-06-19T12:59:19.995536Z",
     "iopub.status.busy": "2025-06-19T12:59:19.995050Z",
     "iopub.status.idle": "2025-06-19T12:59:19.999761Z",
     "shell.execute_reply": "2025-06-19T12:59:19.999014Z",
     "shell.execute_reply.started": "2025-06-19T12:59:19.995517Z"
    }
   },
   "outputs": [
    {
     "data": {
      "text/plain": [
       "3"
      ]
     },
     "execution_count": 37,
     "metadata": {},
     "output_type": "execute_result"
    }
   ],
   "source": [
    "myList.index(40)"
   ]
  },
  {
   "cell_type": "code",
   "execution_count": 38,
   "metadata": {
    "execution": {
     "iopub.execute_input": "2025-06-19T12:59:21.354606Z",
     "iopub.status.busy": "2025-06-19T12:59:21.354404Z",
     "iopub.status.idle": "2025-06-19T12:59:21.358938Z",
     "shell.execute_reply": "2025-06-19T12:59:21.358413Z",
     "shell.execute_reply.started": "2025-06-19T12:59:21.354593Z"
    }
   },
   "outputs": [
    {
     "name": "stdout",
     "output_type": "stream",
     "text": [
      "Help on built-in function insert:\n",
      "\n",
      "insert(index, object, /) method of builtins.list instance\n",
      "    Insert object before index.\n",
      "\n"
     ]
    }
   ],
   "source": [
    "help(myList.insert)"
   ]
  },
  {
   "cell_type": "code",
   "execution_count": 39,
   "metadata": {
    "execution": {
     "iopub.execute_input": "2025-06-19T12:59:25.397920Z",
     "iopub.status.busy": "2025-06-19T12:59:25.397633Z",
     "iopub.status.idle": "2025-06-19T12:59:25.403167Z",
     "shell.execute_reply": "2025-06-19T12:59:25.402083Z",
     "shell.execute_reply.started": "2025-06-19T12:59:25.397901Z"
    }
   },
   "outputs": [
    {
     "data": {
      "text/plain": [
       "[100, 20, 30, 40, 50, 60, 70, 80, 1]"
      ]
     },
     "execution_count": 39,
     "metadata": {},
     "output_type": "execute_result"
    }
   ],
   "source": [
    "myList"
   ]
  },
  {
   "cell_type": "code",
   "execution_count": 40,
   "metadata": {
    "execution": {
     "iopub.execute_input": "2025-06-19T12:59:26.582570Z",
     "iopub.status.busy": "2025-06-19T12:59:26.581695Z",
     "iopub.status.idle": "2025-06-19T12:59:26.585618Z",
     "shell.execute_reply": "2025-06-19T12:59:26.584928Z",
     "shell.execute_reply.started": "2025-06-19T12:59:26.582548Z"
    }
   },
   "outputs": [],
   "source": [
    "myList.insert(2,35)"
   ]
  },
  {
   "cell_type": "code",
   "execution_count": 41,
   "metadata": {
    "execution": {
     "iopub.execute_input": "2025-06-19T12:59:26.932419Z",
     "iopub.status.busy": "2025-06-19T12:59:26.932210Z",
     "iopub.status.idle": "2025-06-19T12:59:26.938081Z",
     "shell.execute_reply": "2025-06-19T12:59:26.937413Z",
     "shell.execute_reply.started": "2025-06-19T12:59:26.932406Z"
    }
   },
   "outputs": [
    {
     "data": {
      "text/plain": [
       "[100, 20, 35, 30, 40, 50, 60, 70, 80, 1]"
      ]
     },
     "execution_count": 41,
     "metadata": {},
     "output_type": "execute_result"
    }
   ],
   "source": [
    "myList"
   ]
  },
  {
   "cell_type": "code",
   "execution_count": 42,
   "metadata": {
    "execution": {
     "iopub.execute_input": "2025-06-19T12:59:36.593083Z",
     "iopub.status.busy": "2025-06-19T12:59:36.592869Z",
     "iopub.status.idle": "2025-06-19T12:59:36.597550Z",
     "shell.execute_reply": "2025-06-19T12:59:36.596788Z",
     "shell.execute_reply.started": "2025-06-19T12:59:36.593069Z"
    }
   },
   "outputs": [
    {
     "data": {
      "text/plain": [
       "1"
      ]
     },
     "execution_count": 42,
     "metadata": {},
     "output_type": "execute_result"
    }
   ],
   "source": [
    "myList.pop()"
   ]
  },
  {
   "cell_type": "code",
   "execution_count": 43,
   "metadata": {
    "execution": {
     "iopub.execute_input": "2025-06-19T12:59:37.557181Z",
     "iopub.status.busy": "2025-06-19T12:59:37.556973Z",
     "iopub.status.idle": "2025-06-19T12:59:37.562976Z",
     "shell.execute_reply": "2025-06-19T12:59:37.562021Z",
     "shell.execute_reply.started": "2025-06-19T12:59:37.557167Z"
    }
   },
   "outputs": [
    {
     "data": {
      "text/plain": [
       "[100, 20, 35, 30, 40, 50, 60, 70, 80]"
      ]
     },
     "execution_count": 43,
     "metadata": {},
     "output_type": "execute_result"
    }
   ],
   "source": [
    "myList"
   ]
  },
  {
   "cell_type": "code",
   "execution_count": 44,
   "metadata": {
    "execution": {
     "iopub.execute_input": "2025-06-19T12:59:40.819725Z",
     "iopub.status.busy": "2025-06-19T12:59:40.819521Z",
     "iopub.status.idle": "2025-06-19T12:59:40.822909Z",
     "shell.execute_reply": "2025-06-19T12:59:40.822326Z",
     "shell.execute_reply.started": "2025-06-19T12:59:40.819711Z"
    }
   },
   "outputs": [],
   "source": [
    "myList.remove(40)"
   ]
  },
  {
   "cell_type": "code",
   "execution_count": 45,
   "metadata": {
    "execution": {
     "iopub.execute_input": "2025-06-19T12:59:42.118430Z",
     "iopub.status.busy": "2025-06-19T12:59:42.117971Z",
     "iopub.status.idle": "2025-06-19T12:59:42.122771Z",
     "shell.execute_reply": "2025-06-19T12:59:42.122215Z",
     "shell.execute_reply.started": "2025-06-19T12:59:42.118413Z"
    }
   },
   "outputs": [
    {
     "data": {
      "text/plain": [
       "[100, 20, 35, 30, 50, 60, 70, 80]"
      ]
     },
     "execution_count": 45,
     "metadata": {},
     "output_type": "execute_result"
    }
   ],
   "source": [
    "myList"
   ]
  },
  {
   "cell_type": "code",
   "execution_count": 46,
   "metadata": {
    "execution": {
     "iopub.execute_input": "2025-06-19T12:59:43.923390Z",
     "iopub.status.busy": "2025-06-19T12:59:43.923182Z",
     "iopub.status.idle": "2025-06-19T12:59:43.926686Z",
     "shell.execute_reply": "2025-06-19T12:59:43.926169Z",
     "shell.execute_reply.started": "2025-06-19T12:59:43.923376Z"
    }
   },
   "outputs": [],
   "source": [
    "myList.reverse()"
   ]
  },
  {
   "cell_type": "code",
   "execution_count": 47,
   "metadata": {
    "execution": {
     "iopub.execute_input": "2025-06-19T12:59:45.484714Z",
     "iopub.status.busy": "2025-06-19T12:59:45.484185Z",
     "iopub.status.idle": "2025-06-19T12:59:45.488601Z",
     "shell.execute_reply": "2025-06-19T12:59:45.487849Z",
     "shell.execute_reply.started": "2025-06-19T12:59:45.484693Z"
    }
   },
   "outputs": [
    {
     "data": {
      "text/plain": [
       "[80, 70, 60, 50, 30, 35, 20, 100]"
      ]
     },
     "execution_count": 47,
     "metadata": {},
     "output_type": "execute_result"
    }
   ],
   "source": [
    "myList"
   ]
  },
  {
   "cell_type": "code",
   "execution_count": 48,
   "metadata": {
    "execution": {
     "iopub.execute_input": "2025-06-19T12:59:49.400594Z",
     "iopub.status.busy": "2025-06-19T12:59:49.400132Z",
     "iopub.status.idle": "2025-06-19T12:59:49.403873Z",
     "shell.execute_reply": "2025-06-19T12:59:49.403152Z",
     "shell.execute_reply.started": "2025-06-19T12:59:49.400550Z"
    }
   },
   "outputs": [],
   "source": [
    "myList.sort()"
   ]
  },
  {
   "cell_type": "code",
   "execution_count": 49,
   "metadata": {
    "execution": {
     "iopub.execute_input": "2025-06-19T12:59:56.796925Z",
     "iopub.status.busy": "2025-06-19T12:59:56.796669Z",
     "iopub.status.idle": "2025-06-19T12:59:56.802116Z",
     "shell.execute_reply": "2025-06-19T12:59:56.801138Z",
     "shell.execute_reply.started": "2025-06-19T12:59:56.796909Z"
    }
   },
   "outputs": [
    {
     "data": {
      "text/plain": [
       "[20, 30, 35, 50, 60, 70, 80, 100]"
      ]
     },
     "execution_count": 49,
     "metadata": {},
     "output_type": "execute_result"
    }
   ],
   "source": [
    "myList"
   ]
  },
  {
   "cell_type": "code",
   "execution_count": 51,
   "metadata": {
    "execution": {
     "iopub.execute_input": "2025-06-19T13:01:16.478675Z",
     "iopub.status.busy": "2025-06-19T13:01:16.478442Z",
     "iopub.status.idle": "2025-06-19T13:01:19.038245Z",
     "shell.execute_reply": "2025-06-19T13:01:19.037543Z",
     "shell.execute_reply.started": "2025-06-19T13:01:16.478659Z"
    }
   },
   "outputs": [
    {
     "name": "stdin",
     "output_type": "stream",
     "text": [
      "enter x 10\n"
     ]
    }
   ],
   "source": [
    "x = input(\"enter x\")"
   ]
  },
  {
   "cell_type": "code",
   "execution_count": 52,
   "metadata": {
    "execution": {
     "iopub.execute_input": "2025-06-19T13:01:21.654757Z",
     "iopub.status.busy": "2025-06-19T13:01:21.654507Z",
     "iopub.status.idle": "2025-06-19T13:01:21.659098Z",
     "shell.execute_reply": "2025-06-19T13:01:21.658486Z",
     "shell.execute_reply.started": "2025-06-19T13:01:21.654743Z"
    }
   },
   "outputs": [
    {
     "data": {
      "text/plain": [
       "'10'"
      ]
     },
     "execution_count": 52,
     "metadata": {},
     "output_type": "execute_result"
    }
   ],
   "source": [
    "x"
   ]
  },
  {
   "cell_type": "code",
   "execution_count": 53,
   "metadata": {
    "execution": {
     "iopub.execute_input": "2025-06-19T13:01:22.867800Z",
     "iopub.status.busy": "2025-06-19T13:01:22.867591Z",
     "iopub.status.idle": "2025-06-19T13:01:22.872305Z",
     "shell.execute_reply": "2025-06-19T13:01:22.871756Z",
     "shell.execute_reply.started": "2025-06-19T13:01:22.867785Z"
    }
   },
   "outputs": [
    {
     "data": {
      "text/plain": [
       "str"
      ]
     },
     "execution_count": 53,
     "metadata": {},
     "output_type": "execute_result"
    }
   ],
   "source": [
    "type(x)"
   ]
  },
  {
   "cell_type": "code",
   "execution_count": 54,
   "metadata": {
    "execution": {
     "iopub.execute_input": "2025-06-19T13:01:26.331578Z",
     "iopub.status.busy": "2025-06-19T13:01:26.331130Z",
     "iopub.status.idle": "2025-06-19T13:01:30.402886Z",
     "shell.execute_reply": "2025-06-19T13:01:30.402138Z",
     "shell.execute_reply.started": "2025-06-19T13:01:26.331562Z"
    }
   },
   "outputs": [
    {
     "name": "stdin",
     "output_type": "stream",
     "text": [
      "enter y: 20\n"
     ]
    }
   ],
   "source": [
    "y = input(\"enter y:\")"
   ]
  },
  {
   "cell_type": "code",
   "execution_count": 55,
   "metadata": {
    "execution": {
     "iopub.execute_input": "2025-06-19T13:01:32.802484Z",
     "iopub.status.busy": "2025-06-19T13:01:32.802229Z",
     "iopub.status.idle": "2025-06-19T13:01:32.807252Z",
     "shell.execute_reply": "2025-06-19T13:01:32.806712Z",
     "shell.execute_reply.started": "2025-06-19T13:01:32.802469Z"
    }
   },
   "outputs": [
    {
     "data": {
      "text/plain": [
       "'20'"
      ]
     },
     "execution_count": 55,
     "metadata": {},
     "output_type": "execute_result"
    }
   ],
   "source": [
    "y"
   ]
  },
  {
   "cell_type": "code",
   "execution_count": 56,
   "metadata": {
    "execution": {
     "iopub.execute_input": "2025-06-19T13:01:37.684990Z",
     "iopub.status.busy": "2025-06-19T13:01:37.684784Z",
     "iopub.status.idle": "2025-06-19T13:01:41.104811Z",
     "shell.execute_reply": "2025-06-19T13:01:41.103729Z",
     "shell.execute_reply.started": "2025-06-19T13:01:37.684976Z"
    }
   },
   "outputs": [
    {
     "name": "stdin",
     "output_type": "stream",
     "text": [
      "enter z: 30\n"
     ]
    }
   ],
   "source": [
    "z = input(\"enter z:\")"
   ]
  },
  {
   "cell_type": "code",
   "execution_count": 57,
   "metadata": {
    "execution": {
     "iopub.execute_input": "2025-06-19T13:01:43.578102Z",
     "iopub.status.busy": "2025-06-19T13:01:43.577883Z",
     "iopub.status.idle": "2025-06-19T13:01:43.582444Z",
     "shell.execute_reply": "2025-06-19T13:01:43.581746Z",
     "shell.execute_reply.started": "2025-06-19T13:01:43.578087Z"
    }
   },
   "outputs": [
    {
     "data": {
      "text/plain": [
       "'30'"
      ]
     },
     "execution_count": 57,
     "metadata": {},
     "output_type": "execute_result"
    }
   ],
   "source": [
    "z"
   ]
  },
  {
   "cell_type": "code",
   "execution_count": 58,
   "metadata": {
    "execution": {
     "iopub.execute_input": "2025-06-19T13:02:02.212413Z",
     "iopub.status.busy": "2025-06-19T13:02:02.212083Z",
     "iopub.status.idle": "2025-06-19T13:02:02.215177Z",
     "shell.execute_reply": "2025-06-19T13:02:02.214581Z",
     "shell.execute_reply.started": "2025-06-19T13:02:02.212395Z"
    }
   },
   "outputs": [],
   "source": [
    "inputList = []"
   ]
  },
  {
   "cell_type": "code",
   "execution_count": 59,
   "metadata": {
    "execution": {
     "iopub.execute_input": "2025-06-19T13:02:05.204719Z",
     "iopub.status.busy": "2025-06-19T13:02:05.204259Z",
     "iopub.status.idle": "2025-06-19T13:02:05.208869Z",
     "shell.execute_reply": "2025-06-19T13:02:05.208075Z",
     "shell.execute_reply.started": "2025-06-19T13:02:05.204699Z"
    }
   },
   "outputs": [
    {
     "data": {
      "text/plain": [
       "list"
      ]
     },
     "execution_count": 59,
     "metadata": {},
     "output_type": "execute_result"
    }
   ],
   "source": [
    "type(inputList)"
   ]
  },
  {
   "cell_type": "code",
   "execution_count": 60,
   "metadata": {
    "execution": {
     "iopub.execute_input": "2025-06-19T13:02:07.315499Z",
     "iopub.status.busy": "2025-06-19T13:02:07.315296Z",
     "iopub.status.idle": "2025-06-19T13:02:07.319680Z",
     "shell.execute_reply": "2025-06-19T13:02:07.319064Z",
     "shell.execute_reply.started": "2025-06-19T13:02:07.315486Z"
    }
   },
   "outputs": [
    {
     "data": {
      "text/plain": [
       "[]"
      ]
     },
     "execution_count": 60,
     "metadata": {},
     "output_type": "execute_result"
    }
   ],
   "source": [
    "inputList"
   ]
  },
  {
   "cell_type": "code",
   "execution_count": 61,
   "metadata": {
    "execution": {
     "iopub.execute_input": "2025-06-19T13:02:07.965356Z",
     "iopub.status.busy": "2025-06-19T13:02:07.965020Z",
     "iopub.status.idle": "2025-06-19T13:02:07.970302Z",
     "shell.execute_reply": "2025-06-19T13:02:07.969573Z",
     "shell.execute_reply.started": "2025-06-19T13:02:07.965335Z"
    }
   },
   "outputs": [
    {
     "data": {
      "text/plain": [
       "0"
      ]
     },
     "execution_count": 61,
     "metadata": {},
     "output_type": "execute_result"
    }
   ],
   "source": [
    "len(inputList)"
   ]
  },
  {
   "cell_type": "code",
   "execution_count": 62,
   "metadata": {
    "execution": {
     "iopub.execute_input": "2025-06-19T13:02:19.823276Z",
     "iopub.status.busy": "2025-06-19T13:02:19.823065Z",
     "iopub.status.idle": "2025-06-19T13:02:19.826658Z",
     "shell.execute_reply": "2025-06-19T13:02:19.826042Z",
     "shell.execute_reply.started": "2025-06-19T13:02:19.823261Z"
    }
   },
   "outputs": [],
   "source": [
    "inputList.append(x)\n",
    "inputList.append(y)\n",
    "inputList.append(z)"
   ]
  },
  {
   "cell_type": "code",
   "execution_count": 63,
   "metadata": {
    "execution": {
     "iopub.execute_input": "2025-06-19T13:02:22.781040Z",
     "iopub.status.busy": "2025-06-19T13:02:22.780815Z",
     "iopub.status.idle": "2025-06-19T13:02:22.786288Z",
     "shell.execute_reply": "2025-06-19T13:02:22.785343Z",
     "shell.execute_reply.started": "2025-06-19T13:02:22.781025Z"
    }
   },
   "outputs": [
    {
     "data": {
      "text/plain": [
       "['10', '20', '30']"
      ]
     },
     "execution_count": 63,
     "metadata": {},
     "output_type": "execute_result"
    }
   ],
   "source": [
    "inputList"
   ]
  },
  {
   "cell_type": "code",
   "execution_count": 64,
   "metadata": {
    "execution": {
     "iopub.execute_input": "2025-06-19T13:02:23.522992Z",
     "iopub.status.busy": "2025-06-19T13:02:23.522433Z",
     "iopub.status.idle": "2025-06-19T13:02:23.527357Z",
     "shell.execute_reply": "2025-06-19T13:02:23.526790Z",
     "shell.execute_reply.started": "2025-06-19T13:02:23.522976Z"
    }
   },
   "outputs": [
    {
     "data": {
      "text/plain": [
       "'20'"
      ]
     },
     "execution_count": 64,
     "metadata": {},
     "output_type": "execute_result"
    }
   ],
   "source": [
    "inputList[1]"
   ]
  },
  {
   "cell_type": "code",
   "execution_count": 65,
   "metadata": {
    "execution": {
     "iopub.execute_input": "2025-06-19T13:02:25.703250Z",
     "iopub.status.busy": "2025-06-19T13:02:25.702508Z",
     "iopub.status.idle": "2025-06-19T13:02:25.707138Z",
     "shell.execute_reply": "2025-06-19T13:02:25.706619Z",
     "shell.execute_reply.started": "2025-06-19T13:02:25.703231Z"
    }
   },
   "outputs": [
    {
     "data": {
      "text/plain": [
       "'2020'"
      ]
     },
     "execution_count": 65,
     "metadata": {},
     "output_type": "execute_result"
    }
   ],
   "source": [
    "inputList[1] * 2"
   ]
  },
  {
   "cell_type": "code",
   "execution_count": 66,
   "metadata": {
    "execution": {
     "iopub.execute_input": "2025-06-19T13:02:26.316520Z",
     "iopub.status.busy": "2025-06-19T13:02:26.316033Z",
     "iopub.status.idle": "2025-06-19T13:02:26.320478Z",
     "shell.execute_reply": "2025-06-19T13:02:26.319688Z",
     "shell.execute_reply.started": "2025-06-19T13:02:26.316500Z"
    }
   },
   "outputs": [
    {
     "data": {
      "text/plain": [
       "str"
      ]
     },
     "execution_count": 66,
     "metadata": {},
     "output_type": "execute_result"
    }
   ],
   "source": [
    "type(inputList[1])"
   ]
  },
  {
   "cell_type": "code",
   "execution_count": 67,
   "metadata": {
    "execution": {
     "iopub.execute_input": "2025-06-19T13:02:26.840334Z",
     "iopub.status.busy": "2025-06-19T13:02:26.840082Z",
     "iopub.status.idle": "2025-06-19T13:02:26.843282Z",
     "shell.execute_reply": "2025-06-19T13:02:26.842639Z",
     "shell.execute_reply.started": "2025-06-19T13:02:26.840319Z"
    }
   },
   "outputs": [],
   "source": [
    "myInteger = 50"
   ]
  },
  {
   "cell_type": "code",
   "execution_count": 68,
   "metadata": {
    "execution": {
     "iopub.execute_input": "2025-06-19T13:02:31.264759Z",
     "iopub.status.busy": "2025-06-19T13:02:31.264158Z",
     "iopub.status.idle": "2025-06-19T13:02:31.268944Z",
     "shell.execute_reply": "2025-06-19T13:02:31.268132Z",
     "shell.execute_reply.started": "2025-06-19T13:02:31.264742Z"
    }
   },
   "outputs": [
    {
     "data": {
      "text/plain": [
       "'50'"
      ]
     },
     "execution_count": 68,
     "metadata": {},
     "output_type": "execute_result"
    }
   ],
   "source": [
    "str(myInteger)"
   ]
  },
  {
   "cell_type": "code",
   "execution_count": 69,
   "metadata": {
    "execution": {
     "iopub.execute_input": "2025-06-19T13:02:32.902882Z",
     "iopub.status.busy": "2025-06-19T13:02:32.902687Z",
     "iopub.status.idle": "2025-06-19T13:02:32.906191Z",
     "shell.execute_reply": "2025-06-19T13:02:32.905630Z",
     "shell.execute_reply.started": "2025-06-19T13:02:32.902869Z"
    }
   },
   "outputs": [],
   "source": [
    "myString = \"40\""
   ]
  },
  {
   "cell_type": "code",
   "execution_count": 70,
   "metadata": {
    "execution": {
     "iopub.execute_input": "2025-06-19T13:02:33.466106Z",
     "iopub.status.busy": "2025-06-19T13:02:33.465905Z",
     "iopub.status.idle": "2025-06-19T13:02:33.471183Z",
     "shell.execute_reply": "2025-06-19T13:02:33.470168Z",
     "shell.execute_reply.started": "2025-06-19T13:02:33.466092Z"
    }
   },
   "outputs": [
    {
     "data": {
      "text/plain": [
       "40"
      ]
     },
     "execution_count": 70,
     "metadata": {},
     "output_type": "execute_result"
    }
   ],
   "source": [
    "int(myString)"
   ]
  },
  {
   "cell_type": "code",
   "execution_count": 71,
   "metadata": {
    "execution": {
     "iopub.execute_input": "2025-06-19T13:02:34.065346Z",
     "iopub.status.busy": "2025-06-19T13:02:34.065008Z",
     "iopub.status.idle": "2025-06-19T13:02:34.069407Z",
     "shell.execute_reply": "2025-06-19T13:02:34.068882Z",
     "shell.execute_reply.started": "2025-06-19T13:02:34.065326Z"
    }
   },
   "outputs": [
    {
     "data": {
      "text/plain": [
       "40.0"
      ]
     },
     "execution_count": 71,
     "metadata": {},
     "output_type": "execute_result"
    }
   ],
   "source": [
    "float(myString)"
   ]
  },
  {
   "cell_type": "code",
   "execution_count": 72,
   "metadata": {
    "execution": {
     "iopub.execute_input": "2025-06-19T13:02:38.173400Z",
     "iopub.status.busy": "2025-06-19T13:02:38.173182Z",
     "iopub.status.idle": "2025-06-19T13:02:38.176901Z",
     "shell.execute_reply": "2025-06-19T13:02:38.176351Z",
     "shell.execute_reply.started": "2025-06-19T13:02:38.173387Z"
    }
   },
   "outputs": [],
   "source": [
    "myString = \"python\""
   ]
  },
  {
   "cell_type": "code",
   "execution_count": 73,
   "metadata": {
    "execution": {
     "iopub.execute_input": "2025-06-19T13:02:39.577453Z",
     "iopub.status.busy": "2025-06-19T13:02:39.577095Z",
     "iopub.status.idle": "2025-06-19T13:02:39.580989Z",
     "shell.execute_reply": "2025-06-19T13:02:39.580216Z",
     "shell.execute_reply.started": "2025-06-19T13:02:39.577435Z"
    }
   },
   "outputs": [],
   "source": [
    "#int(myString)"
   ]
  },
  {
   "cell_type": "code",
   "execution_count": 74,
   "metadata": {
    "execution": {
     "iopub.execute_input": "2025-06-19T13:02:39.878589Z",
     "iopub.status.busy": "2025-06-19T13:02:39.878113Z",
     "iopub.status.idle": "2025-06-19T13:02:39.881135Z",
     "shell.execute_reply": "2025-06-19T13:02:39.880623Z",
     "shell.execute_reply.started": "2025-06-19T13:02:39.878573Z"
    }
   },
   "outputs": [],
   "source": [
    "#float(myString)"
   ]
  },
  {
   "cell_type": "code",
   "execution_count": 75,
   "metadata": {
    "execution": {
     "iopub.execute_input": "2025-06-19T13:02:40.446371Z",
     "iopub.status.busy": "2025-06-19T13:02:40.446013Z",
     "iopub.status.idle": "2025-06-19T13:02:40.451374Z",
     "shell.execute_reply": "2025-06-19T13:02:40.450851Z",
     "shell.execute_reply.started": "2025-06-19T13:02:40.446354Z"
    }
   },
   "outputs": [
    {
     "data": {
      "text/plain": [
       "['10', '20', '30']"
      ]
     },
     "execution_count": 75,
     "metadata": {},
     "output_type": "execute_result"
    }
   ],
   "source": [
    "inputList"
   ]
  },
  {
   "cell_type": "code",
   "execution_count": 76,
   "metadata": {
    "execution": {
     "iopub.execute_input": "2025-06-19T13:02:42.957681Z",
     "iopub.status.busy": "2025-06-19T13:02:42.957308Z",
     "iopub.status.idle": "2025-06-19T13:02:42.962342Z",
     "shell.execute_reply": "2025-06-19T13:02:42.961720Z",
     "shell.execute_reply.started": "2025-06-19T13:02:42.957664Z"
    }
   },
   "outputs": [
    {
     "data": {
      "text/plain": [
       "40"
      ]
     },
     "execution_count": 76,
     "metadata": {},
     "output_type": "execute_result"
    }
   ],
   "source": [
    "int(inputList[1]) * 2"
   ]
  },
  {
   "cell_type": "code",
   "execution_count": 77,
   "metadata": {
    "execution": {
     "iopub.execute_input": "2025-06-19T13:02:43.480522Z",
     "iopub.status.busy": "2025-06-19T13:02:43.479960Z",
     "iopub.status.idle": "2025-06-19T13:02:43.485124Z",
     "shell.execute_reply": "2025-06-19T13:02:43.484328Z",
     "shell.execute_reply.started": "2025-06-19T13:02:43.480504Z"
    }
   },
   "outputs": [
    {
     "data": {
      "text/plain": [
       "['10', '20', '30']"
      ]
     },
     "execution_count": 77,
     "metadata": {},
     "output_type": "execute_result"
    }
   ],
   "source": [
    "inputList"
   ]
  },
  {
   "cell_type": "code",
   "execution_count": 78,
   "metadata": {
    "execution": {
     "iopub.execute_input": "2025-06-19T13:02:43.894714Z",
     "iopub.status.busy": "2025-06-19T13:02:43.894427Z",
     "iopub.status.idle": "2025-06-19T13:02:43.898575Z",
     "shell.execute_reply": "2025-06-19T13:02:43.898084Z",
     "shell.execute_reply.started": "2025-06-19T13:02:43.894700Z"
    }
   },
   "outputs": [
    {
     "data": {
      "text/plain": [
       "\"['10', '20', '30']\""
      ]
     },
     "execution_count": 78,
     "metadata": {},
     "output_type": "execute_result"
    }
   ],
   "source": [
    "str(inputList)"
   ]
  },
  {
   "cell_type": "code",
   "execution_count": 79,
   "metadata": {
    "execution": {
     "iopub.execute_input": "2025-06-19T13:02:44.581557Z",
     "iopub.status.busy": "2025-06-19T13:02:44.581030Z",
     "iopub.status.idle": "2025-06-19T13:02:44.585212Z",
     "shell.execute_reply": "2025-06-19T13:02:44.584650Z",
     "shell.execute_reply.started": "2025-06-19T13:02:44.581539Z"
    }
   },
   "outputs": [
    {
     "data": {
      "text/plain": [
       "['10', '20', '30']"
      ]
     },
     "execution_count": 79,
     "metadata": {},
     "output_type": "execute_result"
    }
   ],
   "source": [
    "inputList"
   ]
  },
  {
   "cell_type": "code",
   "execution_count": 80,
   "metadata": {
    "execution": {
     "iopub.execute_input": "2025-06-19T13:02:44.797627Z",
     "iopub.status.busy": "2025-06-19T13:02:44.797243Z",
     "iopub.status.idle": "2025-06-19T13:02:44.801722Z",
     "shell.execute_reply": "2025-06-19T13:02:44.801183Z",
     "shell.execute_reply.started": "2025-06-19T13:02:44.797609Z"
    }
   },
   "outputs": [],
   "source": [
    "nameList = [\"atil\",\"atlas\",\"a\",\"b\"]"
   ]
  },
  {
   "cell_type": "code",
   "execution_count": 81,
   "metadata": {
    "execution": {
     "iopub.execute_input": "2025-06-19T13:02:45.029038Z",
     "iopub.status.busy": "2025-06-19T13:02:45.028609Z",
     "iopub.status.idle": "2025-06-19T13:02:45.033365Z",
     "shell.execute_reply": "2025-06-19T13:02:45.032687Z",
     "shell.execute_reply.started": "2025-06-19T13:02:45.029021Z"
    }
   },
   "outputs": [
    {
     "data": {
      "text/plain": [
       "list"
      ]
     },
     "execution_count": 81,
     "metadata": {},
     "output_type": "execute_result"
    }
   ],
   "source": [
    "type(nameList)"
   ]
  },
  {
   "cell_type": "code",
   "execution_count": 82,
   "metadata": {
    "execution": {
     "iopub.execute_input": "2025-06-19T13:02:49.251456Z",
     "iopub.status.busy": "2025-06-19T13:02:49.251205Z",
     "iopub.status.idle": "2025-06-19T13:02:49.254592Z",
     "shell.execute_reply": "2025-06-19T13:02:49.254076Z",
     "shell.execute_reply.started": "2025-06-19T13:02:49.251439Z"
    }
   },
   "outputs": [],
   "source": [
    "floatList = [3.14,2.5,10.2,100.123]"
   ]
  },
  {
   "cell_type": "code",
   "execution_count": 83,
   "metadata": {
    "execution": {
     "iopub.execute_input": "2025-06-19T13:02:51.772992Z",
     "iopub.status.busy": "2025-06-19T13:02:51.772310Z",
     "iopub.status.idle": "2025-06-19T13:02:51.777769Z",
     "shell.execute_reply": "2025-06-19T13:02:51.776877Z",
     "shell.execute_reply.started": "2025-06-19T13:02:51.772959Z"
    }
   },
   "outputs": [
    {
     "data": {
      "text/plain": [
       "list"
      ]
     },
     "execution_count": 83,
     "metadata": {},
     "output_type": "execute_result"
    }
   ],
   "source": [
    "type(floatList)"
   ]
  },
  {
   "cell_type": "code",
   "execution_count": 85,
   "metadata": {
    "execution": {
     "iopub.execute_input": "2025-06-19T13:03:03.751663Z",
     "iopub.status.busy": "2025-06-19T13:03:03.751315Z",
     "iopub.status.idle": "2025-06-19T13:03:03.754798Z",
     "shell.execute_reply": "2025-06-19T13:03:03.754259Z",
     "shell.execute_reply.started": "2025-06-19T13:03:03.751643Z"
    }
   },
   "outputs": [],
   "source": [
    "mixedList = [\"emre\",100,3.14]"
   ]
  },
  {
   "cell_type": "code",
   "execution_count": 86,
   "metadata": {
    "execution": {
     "iopub.execute_input": "2025-06-19T13:03:04.619985Z",
     "iopub.status.busy": "2025-06-19T13:03:04.619665Z",
     "iopub.status.idle": "2025-06-19T13:03:04.624514Z",
     "shell.execute_reply": "2025-06-19T13:03:04.623613Z",
     "shell.execute_reply.started": "2025-06-19T13:03:04.619965Z"
    }
   },
   "outputs": [
    {
     "data": {
      "text/plain": [
       "list"
      ]
     },
     "execution_count": 86,
     "metadata": {},
     "output_type": "execute_result"
    }
   ],
   "source": [
    "type(mixedList)"
   ]
  },
  {
   "cell_type": "code",
   "execution_count": 87,
   "metadata": {
    "execution": {
     "iopub.execute_input": "2025-06-19T13:03:05.237204Z",
     "iopub.status.busy": "2025-06-19T13:03:05.236649Z",
     "iopub.status.idle": "2025-06-19T13:03:05.239816Z",
     "shell.execute_reply": "2025-06-19T13:03:05.239307Z",
     "shell.execute_reply.started": "2025-06-19T13:03:05.237186Z"
    }
   },
   "outputs": [],
   "source": [
    "list1 = [10,20,30]\n",
    "list2 = [40,50,60]"
   ]
  },
  {
   "cell_type": "code",
   "execution_count": 88,
   "metadata": {
    "execution": {
     "iopub.execute_input": "2025-06-19T13:03:05.450096Z",
     "iopub.status.busy": "2025-06-19T13:03:05.449750Z",
     "iopub.status.idle": "2025-06-19T13:03:05.454749Z",
     "shell.execute_reply": "2025-06-19T13:03:05.454044Z",
     "shell.execute_reply.started": "2025-06-19T13:03:05.450076Z"
    }
   },
   "outputs": [
    {
     "data": {
      "text/plain": [
       "[10, 20, 30, 40, 50, 60]"
      ]
     },
     "execution_count": 88,
     "metadata": {},
     "output_type": "execute_result"
    }
   ],
   "source": [
    "list1 + list2"
   ]
  },
  {
   "cell_type": "code",
   "execution_count": 89,
   "metadata": {
    "execution": {
     "iopub.execute_input": "2025-06-19T13:03:05.695649Z",
     "iopub.status.busy": "2025-06-19T13:03:05.695293Z",
     "iopub.status.idle": "2025-06-19T13:03:05.700559Z",
     "shell.execute_reply": "2025-06-19T13:03:05.699752Z",
     "shell.execute_reply.started": "2025-06-19T13:03:05.695631Z"
    }
   },
   "outputs": [
    {
     "data": {
      "text/plain": [
       "[10, 20, 30, 10, 20, 30]"
      ]
     },
     "execution_count": 89,
     "metadata": {},
     "output_type": "execute_result"
    }
   ],
   "source": [
    "list1 * 2"
   ]
  },
  {
   "cell_type": "code",
   "execution_count": 90,
   "metadata": {
    "execution": {
     "iopub.execute_input": "2025-06-19T13:03:06.685350Z",
     "iopub.status.busy": "2025-06-19T13:03:06.685147Z",
     "iopub.status.idle": "2025-06-19T13:03:06.688416Z",
     "shell.execute_reply": "2025-06-19T13:03:06.687910Z",
     "shell.execute_reply.started": "2025-06-19T13:03:06.685338Z"
    }
   },
   "outputs": [],
   "source": [
    "#list1 / 5"
   ]
  },
  {
   "cell_type": "code",
   "execution_count": 91,
   "metadata": {
    "execution": {
     "iopub.execute_input": "2025-06-19T13:03:06.901339Z",
     "iopub.status.busy": "2025-06-19T13:03:06.900875Z",
     "iopub.status.idle": "2025-06-19T13:03:06.906194Z",
     "shell.execute_reply": "2025-06-19T13:03:06.905527Z",
     "shell.execute_reply.started": "2025-06-19T13:03:06.901307Z"
    }
   },
   "outputs": [
    {
     "data": {
      "text/plain": [
       "['emre', 100, 3.14]"
      ]
     },
     "execution_count": 91,
     "metadata": {},
     "output_type": "execute_result"
    }
   ],
   "source": [
    "mixedList"
   ]
  },
  {
   "cell_type": "code",
   "execution_count": 92,
   "metadata": {
    "execution": {
     "iopub.execute_input": "2025-06-19T13:03:09.020749Z",
     "iopub.status.busy": "2025-06-19T13:03:09.020137Z",
     "iopub.status.idle": "2025-06-19T13:03:09.024692Z",
     "shell.execute_reply": "2025-06-19T13:03:09.024139Z",
     "shell.execute_reply.started": "2025-06-19T13:03:09.020731Z"
    }
   },
   "outputs": [
    {
     "data": {
      "text/plain": [
       "int"
      ]
     },
     "execution_count": 92,
     "metadata": {},
     "output_type": "execute_result"
    }
   ],
   "source": [
    "type(mixedList[1])"
   ]
  },
  {
   "cell_type": "code",
   "execution_count": 93,
   "metadata": {
    "execution": {
     "iopub.execute_input": "2025-06-19T13:03:13.212664Z",
     "iopub.status.busy": "2025-06-19T13:03:13.212456Z",
     "iopub.status.idle": "2025-06-19T13:03:13.217706Z",
     "shell.execute_reply": "2025-06-19T13:03:13.216919Z",
     "shell.execute_reply.started": "2025-06-19T13:03:13.212651Z"
    }
   },
   "outputs": [
    {
     "data": {
      "text/plain": [
       "str"
      ]
     },
     "execution_count": 93,
     "metadata": {},
     "output_type": "execute_result"
    }
   ],
   "source": [
    "type(mixedList[0])"
   ]
  },
  {
   "cell_type": "code",
   "execution_count": 94,
   "metadata": {
    "execution": {
     "iopub.execute_input": "2025-06-19T13:03:14.130090Z",
     "iopub.status.busy": "2025-06-19T13:03:14.129749Z",
     "iopub.status.idle": "2025-06-19T13:03:14.134361Z",
     "shell.execute_reply": "2025-06-19T13:03:14.133766Z",
     "shell.execute_reply.started": "2025-06-19T13:03:14.130074Z"
    }
   },
   "outputs": [
    {
     "data": {
      "text/plain": [
       "float"
      ]
     },
     "execution_count": 94,
     "metadata": {},
     "output_type": "execute_result"
    }
   ],
   "source": [
    "type(mixedList[2])"
   ]
  },
  {
   "cell_type": "code",
   "execution_count": 95,
   "metadata": {
    "execution": {
     "iopub.execute_input": "2025-06-19T13:03:15.073036Z",
     "iopub.status.busy": "2025-06-19T13:03:15.072574Z",
     "iopub.status.idle": "2025-06-19T13:03:15.076416Z",
     "shell.execute_reply": "2025-06-19T13:03:15.075779Z",
     "shell.execute_reply.started": "2025-06-19T13:03:15.073018Z"
    }
   },
   "outputs": [],
   "source": [
    "#nestedList"
   ]
  },
  {
   "cell_type": "code",
   "execution_count": 96,
   "metadata": {
    "execution": {
     "iopub.execute_input": "2025-06-19T13:03:27.340187Z",
     "iopub.status.busy": "2025-06-19T13:03:27.339968Z",
     "iopub.status.idle": "2025-06-19T13:03:27.343775Z",
     "shell.execute_reply": "2025-06-19T13:03:27.342888Z",
     "shell.execute_reply.started": "2025-06-19T13:03:27.340172Z"
    }
   },
   "outputs": [],
   "source": [
    "myNestedList = [10,20,3.14,\"emre\",[1,2,3]]"
   ]
  },
  {
   "cell_type": "code",
   "execution_count": 97,
   "metadata": {
    "execution": {
     "iopub.execute_input": "2025-06-19T13:03:32.654851Z",
     "iopub.status.busy": "2025-06-19T13:03:32.654386Z",
     "iopub.status.idle": "2025-06-19T13:03:32.658931Z",
     "shell.execute_reply": "2025-06-19T13:03:32.658187Z",
     "shell.execute_reply.started": "2025-06-19T13:03:32.654835Z"
    }
   },
   "outputs": [
    {
     "data": {
      "text/plain": [
       "10"
      ]
     },
     "execution_count": 97,
     "metadata": {},
     "output_type": "execute_result"
    }
   ],
   "source": [
    "myNestedList[0]"
   ]
  },
  {
   "cell_type": "code",
   "execution_count": 98,
   "metadata": {
    "execution": {
     "iopub.execute_input": "2025-06-19T13:03:33.313774Z",
     "iopub.status.busy": "2025-06-19T13:03:33.313039Z",
     "iopub.status.idle": "2025-06-19T13:03:33.318086Z",
     "shell.execute_reply": "2025-06-19T13:03:33.317213Z",
     "shell.execute_reply.started": "2025-06-19T13:03:33.313755Z"
    }
   },
   "outputs": [
    {
     "data": {
      "text/plain": [
       "20"
      ]
     },
     "execution_count": 98,
     "metadata": {},
     "output_type": "execute_result"
    }
   ],
   "source": [
    "myNestedList[1]"
   ]
  },
  {
   "cell_type": "code",
   "execution_count": 99,
   "metadata": {
    "execution": {
     "iopub.execute_input": "2025-06-19T13:03:34.823734Z",
     "iopub.status.busy": "2025-06-19T13:03:34.823392Z",
     "iopub.status.idle": "2025-06-19T13:03:34.827848Z",
     "shell.execute_reply": "2025-06-19T13:03:34.826962Z",
     "shell.execute_reply.started": "2025-06-19T13:03:34.823713Z"
    }
   },
   "outputs": [
    {
     "data": {
      "text/plain": [
       "3.14"
      ]
     },
     "execution_count": 99,
     "metadata": {},
     "output_type": "execute_result"
    }
   ],
   "source": [
    "myNestedList[2]"
   ]
  },
  {
   "cell_type": "code",
   "execution_count": 100,
   "metadata": {
    "execution": {
     "iopub.execute_input": "2025-06-19T13:03:35.242085Z",
     "iopub.status.busy": "2025-06-19T13:03:35.241092Z",
     "iopub.status.idle": "2025-06-19T13:03:35.245781Z",
     "shell.execute_reply": "2025-06-19T13:03:35.245115Z",
     "shell.execute_reply.started": "2025-06-19T13:03:35.242059Z"
    }
   },
   "outputs": [
    {
     "data": {
      "text/plain": [
       "'emre'"
      ]
     },
     "execution_count": 100,
     "metadata": {},
     "output_type": "execute_result"
    }
   ],
   "source": [
    "myNestedList[3]"
   ]
  },
  {
   "cell_type": "code",
   "execution_count": 101,
   "metadata": {
    "execution": {
     "iopub.execute_input": "2025-06-19T13:03:35.954095Z",
     "iopub.status.busy": "2025-06-19T13:03:35.953753Z",
     "iopub.status.idle": "2025-06-19T13:03:35.957883Z",
     "shell.execute_reply": "2025-06-19T13:03:35.957110Z",
     "shell.execute_reply.started": "2025-06-19T13:03:35.954078Z"
    }
   },
   "outputs": [
    {
     "data": {
      "text/plain": [
       "[1, 2, 3]"
      ]
     },
     "execution_count": 101,
     "metadata": {},
     "output_type": "execute_result"
    }
   ],
   "source": [
    "myNestedList[4]"
   ]
  },
  {
   "cell_type": "code",
   "execution_count": 102,
   "metadata": {
    "execution": {
     "iopub.execute_input": "2025-06-19T13:03:36.662145Z",
     "iopub.status.busy": "2025-06-19T13:03:36.661913Z",
     "iopub.status.idle": "2025-06-19T13:03:36.665551Z",
     "shell.execute_reply": "2025-06-19T13:03:36.664805Z",
     "shell.execute_reply.started": "2025-06-19T13:03:36.662129Z"
    }
   },
   "outputs": [],
   "source": [
    "x = myNestedList[0]"
   ]
  },
  {
   "cell_type": "code",
   "execution_count": 103,
   "metadata": {
    "execution": {
     "iopub.execute_input": "2025-06-19T13:03:37.334967Z",
     "iopub.status.busy": "2025-06-19T13:03:37.334762Z",
     "iopub.status.idle": "2025-06-19T13:03:37.339433Z",
     "shell.execute_reply": "2025-06-19T13:03:37.338798Z",
     "shell.execute_reply.started": "2025-06-19T13:03:37.334953Z"
    }
   },
   "outputs": [
    {
     "data": {
      "text/plain": [
       "10"
      ]
     },
     "execution_count": 103,
     "metadata": {},
     "output_type": "execute_result"
    }
   ],
   "source": [
    "x"
   ]
  },
  {
   "cell_type": "code",
   "execution_count": 104,
   "metadata": {
    "execution": {
     "iopub.execute_input": "2025-06-19T13:03:37.572642Z",
     "iopub.status.busy": "2025-06-19T13:03:37.572167Z",
     "iopub.status.idle": "2025-06-19T13:03:37.575711Z",
     "shell.execute_reply": "2025-06-19T13:03:37.574842Z",
     "shell.execute_reply.started": "2025-06-19T13:03:37.572624Z"
    }
   },
   "outputs": [],
   "source": [
    "smallList = myNestedList[4]"
   ]
  },
  {
   "cell_type": "code",
   "execution_count": 105,
   "metadata": {
    "execution": {
     "iopub.execute_input": "2025-06-19T13:03:38.110847Z",
     "iopub.status.busy": "2025-06-19T13:03:38.110273Z",
     "iopub.status.idle": "2025-06-19T13:03:38.114818Z",
     "shell.execute_reply": "2025-06-19T13:03:38.114311Z",
     "shell.execute_reply.started": "2025-06-19T13:03:38.110829Z"
    }
   },
   "outputs": [
    {
     "data": {
      "text/plain": [
       "[1, 2, 3]"
      ]
     },
     "execution_count": 105,
     "metadata": {},
     "output_type": "execute_result"
    }
   ],
   "source": [
    "smallList"
   ]
  },
  {
   "cell_type": "code",
   "execution_count": 106,
   "metadata": {
    "execution": {
     "iopub.execute_input": "2025-06-19T13:03:38.933279Z",
     "iopub.status.busy": "2025-06-19T13:03:38.932697Z",
     "iopub.status.idle": "2025-06-19T13:03:38.937286Z",
     "shell.execute_reply": "2025-06-19T13:03:38.936691Z",
     "shell.execute_reply.started": "2025-06-19T13:03:38.933261Z"
    }
   },
   "outputs": [
    {
     "data": {
      "text/plain": [
       "list"
      ]
     },
     "execution_count": 106,
     "metadata": {},
     "output_type": "execute_result"
    }
   ],
   "source": [
    "type(smallList)"
   ]
  },
  {
   "cell_type": "code",
   "execution_count": 107,
   "metadata": {
    "execution": {
     "iopub.execute_input": "2025-06-19T13:03:39.170420Z",
     "iopub.status.busy": "2025-06-19T13:03:39.169829Z",
     "iopub.status.idle": "2025-06-19T13:03:39.174264Z",
     "shell.execute_reply": "2025-06-19T13:03:39.173667Z",
     "shell.execute_reply.started": "2025-06-19T13:03:39.170401Z"
    }
   },
   "outputs": [
    {
     "data": {
      "text/plain": [
       "[10, 20, 3.14, 'emre', [1, 2, 3]]"
      ]
     },
     "execution_count": 107,
     "metadata": {},
     "output_type": "execute_result"
    }
   ],
   "source": [
    "myNestedList"
   ]
  },
  {
   "cell_type": "code",
   "execution_count": 108,
   "metadata": {
    "execution": {
     "iopub.execute_input": "2025-06-19T13:03:39.737621Z",
     "iopub.status.busy": "2025-06-19T13:03:39.737420Z",
     "iopub.status.idle": "2025-06-19T13:03:39.740463Z",
     "shell.execute_reply": "2025-06-19T13:03:39.739947Z",
     "shell.execute_reply.started": "2025-06-19T13:03:39.737608Z"
    }
   },
   "outputs": [],
   "source": [
    "smallList = myNestedList[-1]"
   ]
  },
  {
   "cell_type": "code",
   "execution_count": 109,
   "metadata": {
    "execution": {
     "iopub.execute_input": "2025-06-19T13:03:41.402841Z",
     "iopub.status.busy": "2025-06-19T13:03:41.402613Z",
     "iopub.status.idle": "2025-06-19T13:03:41.407847Z",
     "shell.execute_reply": "2025-06-19T13:03:41.407107Z",
     "shell.execute_reply.started": "2025-06-19T13:03:41.402827Z"
    }
   },
   "outputs": [
    {
     "data": {
      "text/plain": [
       "[1, 2, 3]"
      ]
     },
     "execution_count": 109,
     "metadata": {},
     "output_type": "execute_result"
    }
   ],
   "source": [
    "smallList"
   ]
  },
  {
   "cell_type": "code",
   "execution_count": 110,
   "metadata": {
    "execution": {
     "iopub.execute_input": "2025-06-19T13:03:42.098074Z",
     "iopub.status.busy": "2025-06-19T13:03:42.097830Z",
     "iopub.status.idle": "2025-06-19T13:03:42.102735Z",
     "shell.execute_reply": "2025-06-19T13:03:42.102168Z",
     "shell.execute_reply.started": "2025-06-19T13:03:42.098060Z"
    }
   },
   "outputs": [
    {
     "data": {
      "text/plain": [
       "2"
      ]
     },
     "execution_count": 110,
     "metadata": {},
     "output_type": "execute_result"
    }
   ],
   "source": [
    "smallList[1]"
   ]
  },
  {
   "cell_type": "code",
   "execution_count": 111,
   "metadata": {
    "execution": {
     "iopub.execute_input": "2025-06-19T13:03:42.340176Z",
     "iopub.status.busy": "2025-06-19T13:03:42.339946Z",
     "iopub.status.idle": "2025-06-19T13:03:42.344371Z",
     "shell.execute_reply": "2025-06-19T13:03:42.343810Z",
     "shell.execute_reply.started": "2025-06-19T13:03:42.340162Z"
    }
   },
   "outputs": [
    {
     "data": {
      "text/plain": [
       "3"
      ]
     },
     "execution_count": 111,
     "metadata": {},
     "output_type": "execute_result"
    }
   ],
   "source": [
    "myNestedList[4][2]"
   ]
  },
  {
   "cell_type": "code",
   "execution_count": 112,
   "metadata": {
    "execution": {
     "iopub.execute_input": "2025-06-19T13:03:42.877956Z",
     "iopub.status.busy": "2025-06-19T13:03:42.877756Z",
     "iopub.status.idle": "2025-06-19T13:03:42.881794Z",
     "shell.execute_reply": "2025-06-19T13:03:42.880717Z",
     "shell.execute_reply.started": "2025-06-19T13:03:42.877943Z"
    }
   },
   "outputs": [],
   "source": [
    "lastList = [\"a\",\"b\",[\"c\",\"d\",\"e\"],\"f\"]"
   ]
  },
  {
   "cell_type": "code",
   "execution_count": 113,
   "metadata": {
    "execution": {
     "iopub.execute_input": "2025-06-19T13:03:43.597967Z",
     "iopub.status.busy": "2025-06-19T13:03:43.597635Z",
     "iopub.status.idle": "2025-06-19T13:03:43.602396Z",
     "shell.execute_reply": "2025-06-19T13:03:43.601677Z",
     "shell.execute_reply.started": "2025-06-19T13:03:43.597948Z"
    }
   },
   "outputs": [
    {
     "data": {
      "text/plain": [
       "4"
      ]
     },
     "execution_count": 113,
     "metadata": {},
     "output_type": "execute_result"
    }
   ],
   "source": [
    "len(lastList)"
   ]
  },
  {
   "cell_type": "code",
   "execution_count": 114,
   "metadata": {
    "execution": {
     "iopub.execute_input": "2025-06-19T13:03:43.838542Z",
     "iopub.status.busy": "2025-06-19T13:03:43.838341Z",
     "iopub.status.idle": "2025-06-19T13:03:43.843473Z",
     "shell.execute_reply": "2025-06-19T13:03:43.842964Z",
     "shell.execute_reply.started": "2025-06-19T13:03:43.838528Z"
    }
   },
   "outputs": [
    {
     "data": {
      "text/plain": [
       "'d'"
      ]
     },
     "execution_count": 114,
     "metadata": {},
     "output_type": "execute_result"
    }
   ],
   "source": [
    "lastList[2][1]"
   ]
  },
  {
   "cell_type": "code",
   "execution_count": 115,
   "metadata": {
    "execution": {
     "iopub.execute_input": "2025-06-19T13:03:44.368979Z",
     "iopub.status.busy": "2025-06-19T13:03:44.367738Z",
     "iopub.status.idle": "2025-06-19T13:03:44.374342Z",
     "shell.execute_reply": "2025-06-19T13:03:44.372909Z",
     "shell.execute_reply.started": "2025-06-19T13:03:44.368937Z"
    }
   },
   "outputs": [],
   "source": [
    "firstList = [10,20,30,40,50,60,70]"
   ]
  },
  {
   "cell_type": "code",
   "execution_count": 116,
   "metadata": {
    "execution": {
     "iopub.execute_input": "2025-06-19T13:03:44.767025Z",
     "iopub.status.busy": "2025-06-19T13:03:44.766702Z",
     "iopub.status.idle": "2025-06-19T13:03:44.772105Z",
     "shell.execute_reply": "2025-06-19T13:03:44.771163Z",
     "shell.execute_reply.started": "2025-06-19T13:03:44.767008Z"
    }
   },
   "outputs": [
    {
     "data": {
      "text/plain": [
       "[10, 20, 30, 40, 50, 60, 70]"
      ]
     },
     "execution_count": 116,
     "metadata": {},
     "output_type": "execute_result"
    }
   ],
   "source": [
    "firstList[::]"
   ]
  },
  {
   "cell_type": "code",
   "execution_count": 117,
   "metadata": {
    "execution": {
     "iopub.execute_input": "2025-06-19T13:03:44.983738Z",
     "iopub.status.busy": "2025-06-19T13:03:44.983228Z",
     "iopub.status.idle": "2025-06-19T13:03:44.988896Z",
     "shell.execute_reply": "2025-06-19T13:03:44.987676Z",
     "shell.execute_reply.started": "2025-06-19T13:03:44.983721Z"
    }
   },
   "outputs": [
    {
     "data": {
      "text/plain": [
       "[30, 40, 50, 60, 70]"
      ]
     },
     "execution_count": 117,
     "metadata": {},
     "output_type": "execute_result"
    }
   ],
   "source": [
    "firstList[2::]"
   ]
  },
  {
   "cell_type": "code",
   "execution_count": 118,
   "metadata": {
    "execution": {
     "iopub.execute_input": "2025-06-19T13:03:45.128135Z",
     "iopub.status.busy": "2025-06-19T13:03:45.127775Z",
     "iopub.status.idle": "2025-06-19T13:03:45.132505Z",
     "shell.execute_reply": "2025-06-19T13:03:45.131921Z",
     "shell.execute_reply.started": "2025-06-19T13:03:45.128117Z"
    }
   },
   "outputs": [
    {
     "data": {
      "text/plain": [
       "[10, 20, 30, 40, 50]"
      ]
     },
     "execution_count": 118,
     "metadata": {},
     "output_type": "execute_result"
    }
   ],
   "source": [
    "firstList[:5:]"
   ]
  },
  {
   "cell_type": "code",
   "execution_count": 119,
   "metadata": {
    "execution": {
     "iopub.execute_input": "2025-06-19T13:03:45.399491Z",
     "iopub.status.busy": "2025-06-19T13:03:45.399269Z",
     "iopub.status.idle": "2025-06-19T13:03:45.403604Z",
     "shell.execute_reply": "2025-06-19T13:03:45.402922Z",
     "shell.execute_reply.started": "2025-06-19T13:03:45.399476Z"
    }
   },
   "outputs": [
    {
     "data": {
      "text/plain": [
       "[10, 30, 50, 70]"
      ]
     },
     "execution_count": 119,
     "metadata": {},
     "output_type": "execute_result"
    }
   ],
   "source": [
    "firstList[::2]"
   ]
  },
  {
   "cell_type": "code",
   "execution_count": 120,
   "metadata": {
    "execution": {
     "iopub.execute_input": "2025-06-19T13:03:45.815041Z",
     "iopub.status.busy": "2025-06-19T13:03:45.814817Z",
     "iopub.status.idle": "2025-06-19T13:03:45.820077Z",
     "shell.execute_reply": "2025-06-19T13:03:45.819320Z",
     "shell.execute_reply.started": "2025-06-19T13:03:45.815003Z"
    }
   },
   "outputs": [
    {
     "data": {
      "text/plain": [
       "[20, 40, 60]"
      ]
     },
     "execution_count": 120,
     "metadata": {},
     "output_type": "execute_result"
    }
   ],
   "source": [
    "firstList[1:6:2]"
   ]
  },
  {
   "cell_type": "code",
   "execution_count": null,
   "metadata": {},
   "outputs": [],
   "source": []
  },
  {
   "cell_type": "code",
   "execution_count": null,
   "metadata": {},
   "outputs": [],
   "source": []
  },
  {
   "cell_type": "code",
   "execution_count": null,
   "metadata": {},
   "outputs": [],
   "source": []
  },
  {
   "cell_type": "code",
   "execution_count": null,
   "metadata": {},
   "outputs": [],
   "source": []
  }
 ],
 "metadata": {
  "kernelspec": {
   "display_name": "Python 3 (ipykernel)",
   "language": "python",
   "name": "python3"
  },
  "language_info": {
   "codemirror_mode": {
    "name": "ipython",
    "version": 3
   },
   "file_extension": ".py",
   "mimetype": "text/x-python",
   "name": "python",
   "nbconvert_exporter": "python",
   "pygments_lexer": "ipython3",
   "version": "3.12.9"
  }
 },
 "nbformat": 4,
 "nbformat_minor": 4
}
