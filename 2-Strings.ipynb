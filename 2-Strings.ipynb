{
 "cells": [
  {
   "cell_type": "code",
   "execution_count": 1,
   "metadata": {
    "execution": {
     "iopub.execute_input": "2025-06-19T12:50:25.868192Z",
     "iopub.status.busy": "2025-06-19T12:50:25.867944Z",
     "iopub.status.idle": "2025-06-19T12:50:25.875257Z",
     "shell.execute_reply": "2025-06-19T12:50:25.874527Z",
     "shell.execute_reply.started": "2025-06-19T12:50:25.868175Z"
    }
   },
   "outputs": [
    {
     "data": {
      "text/plain": [
       "'hello world'"
      ]
     },
     "execution_count": 1,
     "metadata": {},
     "output_type": "execute_result"
    }
   ],
   "source": [
    "\"hello world\""
   ]
  },
  {
   "cell_type": "code",
   "execution_count": 2,
   "metadata": {
    "execution": {
     "iopub.execute_input": "2025-06-19T12:50:26.236454Z",
     "iopub.status.busy": "2025-06-19T12:50:26.235798Z",
     "iopub.status.idle": "2025-06-19T12:50:26.239903Z",
     "shell.execute_reply": "2025-06-19T12:50:26.239375Z",
     "shell.execute_reply.started": "2025-06-19T12:50:26.236431Z"
    }
   },
   "outputs": [
    {
     "name": "stdout",
     "output_type": "stream",
     "text": [
      "hello python\n"
     ]
    }
   ],
   "source": [
    "print(\"hello python\")"
   ]
  },
  {
   "cell_type": "code",
   "execution_count": 3,
   "metadata": {
    "execution": {
     "iopub.execute_input": "2025-06-19T12:50:26.901716Z",
     "iopub.status.busy": "2025-06-19T12:50:26.901519Z",
     "iopub.status.idle": "2025-06-19T12:50:26.905180Z",
     "shell.execute_reply": "2025-06-19T12:50:26.904579Z",
     "shell.execute_reply.started": "2025-06-19T12:50:26.901703Z"
    }
   },
   "outputs": [],
   "source": [
    "name = \"emre\""
   ]
  },
  {
   "cell_type": "code",
   "execution_count": 4,
   "metadata": {
    "execution": {
     "iopub.execute_input": "2025-06-19T12:50:28.217855Z",
     "iopub.status.busy": "2025-06-19T12:50:28.217582Z",
     "iopub.status.idle": "2025-06-19T12:50:28.222458Z",
     "shell.execute_reply": "2025-06-19T12:50:28.221633Z",
     "shell.execute_reply.started": "2025-06-19T12:50:28.217836Z"
    }
   },
   "outputs": [
    {
     "data": {
      "text/plain": [
       "str"
      ]
     },
     "execution_count": 4,
     "metadata": {},
     "output_type": "execute_result"
    }
   ],
   "source": [
    "type(name)"
   ]
  },
  {
   "cell_type": "code",
   "execution_count": 5,
   "metadata": {
    "execution": {
     "iopub.execute_input": "2025-06-19T12:50:38.160361Z",
     "iopub.status.busy": "2025-06-19T12:50:38.160161Z",
     "iopub.status.idle": "2025-06-19T12:50:38.164550Z",
     "shell.execute_reply": "2025-06-19T12:50:38.163931Z",
     "shell.execute_reply.started": "2025-06-19T12:50:38.160346Z"
    }
   },
   "outputs": [
    {
     "data": {
      "text/plain": [
       "'emre restaurant'"
      ]
     },
     "execution_count": 5,
     "metadata": {},
     "output_type": "execute_result"
    }
   ],
   "source": [
    "'emre restaurant'"
   ]
  },
  {
   "cell_type": "code",
   "execution_count": 6,
   "metadata": {
    "execution": {
     "iopub.execute_input": "2025-06-19T12:50:44.780001Z",
     "iopub.status.busy": "2025-06-19T12:50:44.779676Z",
     "iopub.status.idle": "2025-06-19T12:50:44.785212Z",
     "shell.execute_reply": "2025-06-19T12:50:44.784692Z",
     "shell.execute_reply.started": "2025-06-19T12:50:44.779983Z"
    }
   },
   "outputs": [
    {
     "data": {
      "text/plain": [
       "'emre restaurant'"
      ]
     },
     "execution_count": 6,
     "metadata": {},
     "output_type": "execute_result"
    }
   ],
   "source": [
    "\"emre restaurant\""
   ]
  },
  {
   "cell_type": "code",
   "execution_count": 7,
   "metadata": {
    "execution": {
     "iopub.execute_input": "2025-06-19T12:50:52.406017Z",
     "iopub.status.busy": "2025-06-19T12:50:52.405666Z",
     "iopub.status.idle": "2025-06-19T12:50:52.409855Z",
     "shell.execute_reply": "2025-06-19T12:50:52.409281Z",
     "shell.execute_reply.started": "2025-06-19T12:50:52.406000Z"
    }
   },
   "outputs": [
    {
     "data": {
      "text/plain": [
       "\"emre's restaurant\""
      ]
     },
     "execution_count": 7,
     "metadata": {},
     "output_type": "execute_result"
    }
   ],
   "source": [
    "\"emre's restaurant\""
   ]
  },
  {
   "cell_type": "code",
   "execution_count": 8,
   "metadata": {
    "execution": {
     "iopub.execute_input": "2025-06-19T12:50:58.608534Z",
     "iopub.status.busy": "2025-06-19T12:50:58.608093Z",
     "iopub.status.idle": "2025-06-19T12:50:58.611795Z",
     "shell.execute_reply": "2025-06-19T12:50:58.611130Z",
     "shell.execute_reply.started": "2025-06-19T12:50:58.608517Z"
    }
   },
   "outputs": [],
   "source": [
    "name = \"emre\""
   ]
  },
  {
   "cell_type": "code",
   "execution_count": 9,
   "metadata": {
    "execution": {
     "iopub.execute_input": "2025-06-19T12:50:59.913082Z",
     "iopub.status.busy": "2025-06-19T12:50:59.912812Z",
     "iopub.status.idle": "2025-06-19T12:50:59.917313Z",
     "shell.execute_reply": "2025-06-19T12:50:59.916661Z",
     "shell.execute_reply.started": "2025-06-19T12:50:59.913065Z"
    }
   },
   "outputs": [
    {
     "data": {
      "text/plain": [
       "str"
      ]
     },
     "execution_count": 9,
     "metadata": {},
     "output_type": "execute_result"
    }
   ],
   "source": [
    "type(name)"
   ]
  },
  {
   "cell_type": "code",
   "execution_count": 10,
   "metadata": {
    "execution": {
     "iopub.execute_input": "2025-06-19T12:51:24.391327Z",
     "iopub.status.busy": "2025-06-19T12:51:24.390577Z",
     "iopub.status.idle": "2025-06-19T12:51:24.394133Z",
     "shell.execute_reply": "2025-06-19T12:51:24.393623Z",
     "shell.execute_reply.started": "2025-06-19T12:51:24.391307Z"
    }
   },
   "outputs": [],
   "source": [
    "name = \"emre yildiz\""
   ]
  },
  {
   "cell_type": "code",
   "execution_count": 11,
   "metadata": {
    "execution": {
     "iopub.execute_input": "2025-06-19T12:51:25.045888Z",
     "iopub.status.busy": "2025-06-19T12:51:25.045020Z",
     "iopub.status.idle": "2025-06-19T12:51:25.050354Z",
     "shell.execute_reply": "2025-06-19T12:51:25.049690Z",
     "shell.execute_reply.started": "2025-06-19T12:51:25.045861Z"
    }
   },
   "outputs": [
    {
     "data": {
      "text/plain": [
       "'Emre yildiz'"
      ]
     },
     "execution_count": 11,
     "metadata": {},
     "output_type": "execute_result"
    }
   ],
   "source": [
    "name.capitalize()"
   ]
  },
  {
   "cell_type": "code",
   "execution_count": 12,
   "metadata": {
    "execution": {
     "iopub.execute_input": "2025-06-19T12:51:29.446728Z",
     "iopub.status.busy": "2025-06-19T12:51:29.446463Z",
     "iopub.status.idle": "2025-06-19T12:51:29.452524Z",
     "shell.execute_reply": "2025-06-19T12:51:29.451734Z",
     "shell.execute_reply.started": "2025-06-19T12:51:29.446709Z"
    }
   },
   "outputs": [
    {
     "data": {
      "text/plain": [
       "<function str.capitalize()>"
      ]
     },
     "execution_count": 12,
     "metadata": {},
     "output_type": "execute_result"
    }
   ],
   "source": [
    "name.capitalize"
   ]
  },
  {
   "cell_type": "code",
   "execution_count": 13,
   "metadata": {
    "execution": {
     "iopub.execute_input": "2025-06-19T12:51:31.646319Z",
     "iopub.status.busy": "2025-06-19T12:51:31.646110Z",
     "iopub.status.idle": "2025-06-19T12:51:31.649661Z",
     "shell.execute_reply": "2025-06-19T12:51:31.649121Z",
     "shell.execute_reply.started": "2025-06-19T12:51:31.646304Z"
    }
   },
   "outputs": [],
   "source": [
    "x = 10"
   ]
  },
  {
   "cell_type": "code",
   "execution_count": 14,
   "metadata": {
    "execution": {
     "iopub.execute_input": "2025-06-19T12:51:34.010935Z",
     "iopub.status.busy": "2025-06-19T12:51:34.010652Z",
     "iopub.status.idle": "2025-06-19T12:51:34.014203Z",
     "shell.execute_reply": "2025-06-19T12:51:34.013576Z",
     "shell.execute_reply.started": "2025-06-19T12:51:34.010915Z"
    }
   },
   "outputs": [],
   "source": [
    "x = 8"
   ]
  },
  {
   "cell_type": "code",
   "execution_count": 15,
   "metadata": {
    "execution": {
     "iopub.execute_input": "2025-06-19T12:51:38.530510Z",
     "iopub.status.busy": "2025-06-19T12:51:38.530112Z",
     "iopub.status.idle": "2025-06-19T12:51:38.534612Z",
     "shell.execute_reply": "2025-06-19T12:51:38.534015Z",
     "shell.execute_reply.started": "2025-06-19T12:51:38.530492Z"
    }
   },
   "outputs": [
    {
     "data": {
      "text/plain": [
       "'emre yildiz'"
      ]
     },
     "execution_count": 15,
     "metadata": {},
     "output_type": "execute_result"
    }
   ],
   "source": [
    "name"
   ]
  },
  {
   "cell_type": "code",
   "execution_count": 16,
   "metadata": {
    "execution": {
     "iopub.execute_input": "2025-06-19T12:51:41.690078Z",
     "iopub.status.busy": "2025-06-19T12:51:41.689360Z",
     "iopub.status.idle": "2025-06-19T12:51:41.693650Z",
     "shell.execute_reply": "2025-06-19T12:51:41.693155Z",
     "shell.execute_reply.started": "2025-06-19T12:51:41.690055Z"
    }
   },
   "outputs": [
    {
     "name": "stdout",
     "output_type": "stream",
     "text": [
      "Help on built-in function count:\n",
      "\n",
      "count(...) method of builtins.str instance\n",
      "    S.count(sub[, start[, end]]) -> int\n",
      "\n",
      "    Return the number of non-overlapping occurrences of substring sub in\n",
      "    string S[start:end].  Optional arguments start and end are\n",
      "    interpreted as in slice notation.\n",
      "\n"
     ]
    }
   ],
   "source": [
    "help(name.count)"
   ]
  },
  {
   "cell_type": "code",
   "execution_count": 17,
   "metadata": {
    "execution": {
     "iopub.execute_input": "2025-06-19T12:51:42.769366Z",
     "iopub.status.busy": "2025-06-19T12:51:42.769150Z",
     "iopub.status.idle": "2025-06-19T12:51:42.773300Z",
     "shell.execute_reply": "2025-06-19T12:51:42.772785Z",
     "shell.execute_reply.started": "2025-06-19T12:51:42.769351Z"
    }
   },
   "outputs": [
    {
     "name": "stdout",
     "output_type": "stream",
     "text": [
      "Help on built-in function capitalize:\n",
      "\n",
      "capitalize() method of builtins.str instance\n",
      "    Return a capitalized version of the string.\n",
      "\n",
      "    More specifically, make the first character have upper case and the rest lower\n",
      "    case.\n",
      "\n"
     ]
    }
   ],
   "source": [
    "help(name.capitalize)"
   ]
  },
  {
   "cell_type": "code",
   "execution_count": 18,
   "metadata": {
    "execution": {
     "iopub.execute_input": "2025-06-19T12:51:44.325682Z",
     "iopub.status.busy": "2025-06-19T12:51:44.325439Z",
     "iopub.status.idle": "2025-06-19T12:51:44.331667Z",
     "shell.execute_reply": "2025-06-19T12:51:44.330488Z",
     "shell.execute_reply.started": "2025-06-19T12:51:44.325664Z"
    }
   },
   "outputs": [
    {
     "data": {
      "text/plain": [
       "'emre yildiz'"
      ]
     },
     "execution_count": 18,
     "metadata": {},
     "output_type": "execute_result"
    }
   ],
   "source": [
    "name"
   ]
  },
  {
   "cell_type": "code",
   "execution_count": 19,
   "metadata": {
    "execution": {
     "iopub.execute_input": "2025-06-19T12:51:45.049200Z",
     "iopub.status.busy": "2025-06-19T12:51:45.048981Z",
     "iopub.status.idle": "2025-06-19T12:51:45.054024Z",
     "shell.execute_reply": "2025-06-19T12:51:45.053470Z",
     "shell.execute_reply.started": "2025-06-19T12:51:45.049185Z"
    }
   },
   "outputs": [
    {
     "data": {
      "text/plain": [
       "0"
      ]
     },
     "execution_count": 19,
     "metadata": {},
     "output_type": "execute_result"
    }
   ],
   "source": [
    "name.count(\"a\")"
   ]
  },
  {
   "cell_type": "code",
   "execution_count": 20,
   "metadata": {
    "execution": {
     "iopub.execute_input": "2025-06-19T12:51:45.541445Z",
     "iopub.status.busy": "2025-06-19T12:51:45.540974Z",
     "iopub.status.idle": "2025-06-19T12:51:45.546657Z",
     "shell.execute_reply": "2025-06-19T12:51:45.545916Z",
     "shell.execute_reply.started": "2025-06-19T12:51:45.541425Z"
    }
   },
   "outputs": [
    {
     "data": {
      "text/plain": [
       "0"
      ]
     },
     "execution_count": 20,
     "metadata": {},
     "output_type": "execute_result"
    }
   ],
   "source": [
    "name.count(\"b\")"
   ]
  },
  {
   "cell_type": "code",
   "execution_count": 21,
   "metadata": {
    "execution": {
     "iopub.execute_input": "2025-06-19T12:51:46.991400Z",
     "iopub.status.busy": "2025-06-19T12:51:46.991176Z",
     "iopub.status.idle": "2025-06-19T12:51:46.996517Z",
     "shell.execute_reply": "2025-06-19T12:51:46.995678Z",
     "shell.execute_reply.started": "2025-06-19T12:51:46.991381Z"
    }
   },
   "outputs": [
    {
     "data": {
      "text/plain": [
       "'EMRE YILDIZ'"
      ]
     },
     "execution_count": 21,
     "metadata": {},
     "output_type": "execute_result"
    }
   ],
   "source": [
    "name.upper()"
   ]
  },
  {
   "cell_type": "code",
   "execution_count": 22,
   "metadata": {
    "execution": {
     "iopub.execute_input": "2025-06-19T12:51:48.817182Z",
     "iopub.status.busy": "2025-06-19T12:51:48.816486Z",
     "iopub.status.idle": "2025-06-19T12:51:48.821159Z",
     "shell.execute_reply": "2025-06-19T12:51:48.820549Z",
     "shell.execute_reply.started": "2025-06-19T12:51:48.817163Z"
    }
   },
   "outputs": [
    {
     "data": {
      "text/plain": [
       "'emre yildiz'"
      ]
     },
     "execution_count": 22,
     "metadata": {},
     "output_type": "execute_result"
    }
   ],
   "source": [
    "name"
   ]
  },
  {
   "cell_type": "code",
   "execution_count": 23,
   "metadata": {
    "execution": {
     "iopub.execute_input": "2025-06-19T12:51:49.471129Z",
     "iopub.status.busy": "2025-06-19T12:51:49.470632Z",
     "iopub.status.idle": "2025-06-19T12:51:49.474194Z",
     "shell.execute_reply": "2025-06-19T12:51:49.473691Z",
     "shell.execute_reply.started": "2025-06-19T12:51:49.471108Z"
    }
   },
   "outputs": [],
   "source": [
    "x = 10\n",
    "y = 5"
   ]
  },
  {
   "cell_type": "code",
   "execution_count": 24,
   "metadata": {
    "execution": {
     "iopub.execute_input": "2025-06-19T12:51:50.113868Z",
     "iopub.status.busy": "2025-06-19T12:51:50.113660Z",
     "iopub.status.idle": "2025-06-19T12:51:50.118173Z",
     "shell.execute_reply": "2025-06-19T12:51:50.117679Z",
     "shell.execute_reply.started": "2025-06-19T12:51:50.113855Z"
    }
   },
   "outputs": [
    {
     "data": {
      "text/plain": [
       "15"
      ]
     },
     "execution_count": 24,
     "metadata": {},
     "output_type": "execute_result"
    }
   ],
   "source": [
    "x + y"
   ]
  },
  {
   "cell_type": "code",
   "execution_count": 25,
   "metadata": {
    "execution": {
     "iopub.execute_input": "2025-06-19T12:51:50.776801Z",
     "iopub.status.busy": "2025-06-19T12:51:50.776584Z",
     "iopub.status.idle": "2025-06-19T12:51:50.779966Z",
     "shell.execute_reply": "2025-06-19T12:51:50.779393Z",
     "shell.execute_reply.started": "2025-06-19T12:51:50.776787Z"
    }
   },
   "outputs": [],
   "source": [
    "z = x + y"
   ]
  },
  {
   "cell_type": "code",
   "execution_count": 26,
   "metadata": {
    "execution": {
     "iopub.execute_input": "2025-06-19T12:51:51.062063Z",
     "iopub.status.busy": "2025-06-19T12:51:51.061838Z",
     "iopub.status.idle": "2025-06-19T12:51:51.066953Z",
     "shell.execute_reply": "2025-06-19T12:51:51.066390Z",
     "shell.execute_reply.started": "2025-06-19T12:51:51.062049Z"
    }
   },
   "outputs": [
    {
     "data": {
      "text/plain": [
       "15"
      ]
     },
     "execution_count": 26,
     "metadata": {},
     "output_type": "execute_result"
    }
   ],
   "source": [
    "z"
   ]
  },
  {
   "cell_type": "code",
   "execution_count": 27,
   "metadata": {
    "execution": {
     "iopub.execute_input": "2025-06-19T12:51:52.478031Z",
     "iopub.status.busy": "2025-06-19T12:51:52.477672Z",
     "iopub.status.idle": "2025-06-19T12:51:52.497359Z",
     "shell.execute_reply": "2025-06-19T12:51:52.496539Z",
     "shell.execute_reply.started": "2025-06-19T12:51:52.478013Z"
    }
   },
   "outputs": [
    {
     "data": {
      "text/plain": [
       "'emre yildiz'"
      ]
     },
     "execution_count": 27,
     "metadata": {},
     "output_type": "execute_result"
    }
   ],
   "source": [
    "name"
   ]
  },
  {
   "cell_type": "code",
   "execution_count": 28,
   "metadata": {
    "execution": {
     "iopub.execute_input": "2025-06-19T12:51:53.292162Z",
     "iopub.status.busy": "2025-06-19T12:51:53.291967Z",
     "iopub.status.idle": "2025-06-19T12:51:53.295154Z",
     "shell.execute_reply": "2025-06-19T12:51:53.294270Z",
     "shell.execute_reply.started": "2025-06-19T12:51:53.292148Z"
    }
   },
   "outputs": [],
   "source": [
    "nameUpper = name.upper()"
   ]
  },
  {
   "cell_type": "code",
   "execution_count": 29,
   "metadata": {
    "execution": {
     "iopub.execute_input": "2025-06-19T12:51:54.506554Z",
     "iopub.status.busy": "2025-06-19T12:51:54.505910Z",
     "iopub.status.idle": "2025-06-19T12:51:54.511130Z",
     "shell.execute_reply": "2025-06-19T12:51:54.510258Z",
     "shell.execute_reply.started": "2025-06-19T12:51:54.506529Z"
    }
   },
   "outputs": [
    {
     "data": {
      "text/plain": [
       "'EMRE YILDIZ'"
      ]
     },
     "execution_count": 29,
     "metadata": {},
     "output_type": "execute_result"
    }
   ],
   "source": [
    "nameUpper"
   ]
  },
  {
   "cell_type": "code",
   "execution_count": 30,
   "metadata": {
    "execution": {
     "iopub.execute_input": "2025-06-19T12:51:55.872358Z",
     "iopub.status.busy": "2025-06-19T12:51:55.872067Z",
     "iopub.status.idle": "2025-06-19T12:51:55.877017Z",
     "shell.execute_reply": "2025-06-19T12:51:55.876456Z",
     "shell.execute_reply.started": "2025-06-19T12:51:55.872340Z"
    }
   },
   "outputs": [
    {
     "data": {
      "text/plain": [
       "'emre yildiz'"
      ]
     },
     "execution_count": 30,
     "metadata": {},
     "output_type": "execute_result"
    }
   ],
   "source": [
    "name"
   ]
  },
  {
   "cell_type": "code",
   "execution_count": 31,
   "metadata": {
    "execution": {
     "iopub.execute_input": "2025-06-19T12:51:57.942336Z",
     "iopub.status.busy": "2025-06-19T12:51:57.942071Z",
     "iopub.status.idle": "2025-06-19T12:51:57.946577Z",
     "shell.execute_reply": "2025-06-19T12:51:57.945774Z",
     "shell.execute_reply.started": "2025-06-19T12:51:57.942322Z"
    }
   },
   "outputs": [
    {
     "name": "stdout",
     "output_type": "stream",
     "text": [
      "EMRE YILDIZ\n"
     ]
    }
   ],
   "source": [
    "print(name.upper())"
   ]
  },
  {
   "cell_type": "code",
   "execution_count": 32,
   "metadata": {
    "execution": {
     "iopub.execute_input": "2025-06-19T12:51:59.138561Z",
     "iopub.status.busy": "2025-06-19T12:51:59.138327Z",
     "iopub.status.idle": "2025-06-19T12:51:59.142730Z",
     "shell.execute_reply": "2025-06-19T12:51:59.141797Z",
     "shell.execute_reply.started": "2025-06-19T12:51:59.138547Z"
    }
   },
   "outputs": [
    {
     "name": "stdout",
     "output_type": "stream",
     "text": [
      "Help on built-in function upper:\n",
      "\n",
      "upper() method of builtins.str instance\n",
      "    Return a copy of the string converted to uppercase.\n",
      "\n"
     ]
    }
   ],
   "source": [
    "help(name.upper)"
   ]
  },
  {
   "cell_type": "code",
   "execution_count": 33,
   "metadata": {
    "execution": {
     "iopub.execute_input": "2025-06-19T12:52:00.168372Z",
     "iopub.status.busy": "2025-06-19T12:52:00.167331Z",
     "iopub.status.idle": "2025-06-19T12:52:00.172256Z",
     "shell.execute_reply": "2025-06-19T12:52:00.171560Z",
     "shell.execute_reply.started": "2025-06-19T12:52:00.168351Z"
    }
   },
   "outputs": [
    {
     "data": {
      "text/plain": [
       "11"
      ]
     },
     "execution_count": 33,
     "metadata": {},
     "output_type": "execute_result"
    }
   ],
   "source": [
    "len(name) # length"
   ]
  },
  {
   "cell_type": "code",
   "execution_count": 34,
   "metadata": {
    "execution": {
     "iopub.execute_input": "2025-06-19T12:52:10.983270Z",
     "iopub.status.busy": "2025-06-19T12:52:10.983053Z",
     "iopub.status.idle": "2025-06-19T12:52:10.987038Z",
     "shell.execute_reply": "2025-06-19T12:52:10.986538Z",
     "shell.execute_reply.started": "2025-06-19T12:52:10.983256Z"
    }
   },
   "outputs": [
    {
     "name": "stdout",
     "output_type": "stream",
     "text": [
      "emre yildiz\n"
     ]
    }
   ],
   "source": [
    "print(\"emre yildiz\")"
   ]
  },
  {
   "cell_type": "code",
   "execution_count": 35,
   "metadata": {
    "execution": {
     "iopub.execute_input": "2025-06-19T12:52:28.124745Z",
     "iopub.status.busy": "2025-06-19T12:52:28.124414Z",
     "iopub.status.idle": "2025-06-19T12:52:28.128647Z",
     "shell.execute_reply": "2025-06-19T12:52:28.128101Z",
     "shell.execute_reply.started": "2025-06-19T12:52:28.124729Z"
    }
   },
   "outputs": [
    {
     "name": "stdout",
     "output_type": "stream",
     "text": [
      "emre \n",
      "yildiz\n"
     ]
    }
   ],
   "source": [
    "print(\"emre \\nyildiz\")"
   ]
  },
  {
   "cell_type": "code",
   "execution_count": 36,
   "metadata": {
    "execution": {
     "iopub.execute_input": "2025-06-19T12:52:29.937966Z",
     "iopub.status.busy": "2025-06-19T12:52:29.937739Z",
     "iopub.status.idle": "2025-06-19T12:52:29.940751Z",
     "shell.execute_reply": "2025-06-19T12:52:29.940207Z",
     "shell.execute_reply.started": "2025-06-19T12:52:29.937950Z"
    }
   },
   "outputs": [],
   "source": [
    "# \\n -> new line"
   ]
  },
  {
   "cell_type": "code",
   "execution_count": 37,
   "metadata": {
    "execution": {
     "iopub.execute_input": "2025-06-19T12:52:30.260750Z",
     "iopub.status.busy": "2025-06-19T12:52:30.260504Z",
     "iopub.status.idle": "2025-06-19T12:52:30.264260Z",
     "shell.execute_reply": "2025-06-19T12:52:30.263658Z",
     "shell.execute_reply.started": "2025-06-19T12:52:30.260733Z"
    }
   },
   "outputs": [],
   "source": [
    "#escape characters"
   ]
  },
  {
   "cell_type": "code",
   "execution_count": 38,
   "metadata": {
    "execution": {
     "iopub.execute_input": "2025-06-19T12:52:30.795299Z",
     "iopub.status.busy": "2025-06-19T12:52:30.794550Z",
     "iopub.status.idle": "2025-06-19T12:52:30.798215Z",
     "shell.execute_reply": "2025-06-19T12:52:30.797414Z",
     "shell.execute_reply.started": "2025-06-19T12:52:30.795275Z"
    }
   },
   "outputs": [],
   "source": [
    "# \\t -> tab"
   ]
  },
  {
   "cell_type": "code",
   "execution_count": 39,
   "metadata": {
    "execution": {
     "iopub.execute_input": "2025-06-19T12:52:45.311353Z",
     "iopub.status.busy": "2025-06-19T12:52:45.310732Z",
     "iopub.status.idle": "2025-06-19T12:52:45.315015Z",
     "shell.execute_reply": "2025-06-19T12:52:45.314439Z",
     "shell.execute_reply.started": "2025-06-19T12:52:45.311334Z"
    }
   },
   "outputs": [
    {
     "name": "stdout",
     "output_type": "stream",
     "text": [
      "emre \tyildiz\n"
     ]
    }
   ],
   "source": [
    "print(\"emre \\tyildiz\")"
   ]
  },
  {
   "cell_type": "markdown",
   "metadata": {},
   "source": [
    "# index"
   ]
  },
  {
   "cell_type": "code",
   "execution_count": 40,
   "metadata": {
    "execution": {
     "iopub.execute_input": "2025-06-19T12:52:48.276367Z",
     "iopub.status.busy": "2025-06-19T12:52:48.276158Z",
     "iopub.status.idle": "2025-06-19T12:52:48.279876Z",
     "shell.execute_reply": "2025-06-19T12:52:48.278986Z",
     "shell.execute_reply.started": "2025-06-19T12:52:48.276353Z"
    }
   },
   "outputs": [],
   "source": [
    "myString = \"hello python\""
   ]
  },
  {
   "cell_type": "code",
   "execution_count": 41,
   "metadata": {
    "execution": {
     "iopub.execute_input": "2025-06-19T12:52:48.994548Z",
     "iopub.status.busy": "2025-06-19T12:52:48.994024Z",
     "iopub.status.idle": "2025-06-19T12:52:48.998620Z",
     "shell.execute_reply": "2025-06-19T12:52:48.997797Z",
     "shell.execute_reply.started": "2025-06-19T12:52:48.994529Z"
    }
   },
   "outputs": [
    {
     "data": {
      "text/plain": [
       "'o'"
      ]
     },
     "execution_count": 41,
     "metadata": {},
     "output_type": "execute_result"
    }
   ],
   "source": [
    "myString[4]"
   ]
  },
  {
   "cell_type": "code",
   "execution_count": 42,
   "metadata": {
    "execution": {
     "iopub.execute_input": "2025-06-19T12:52:49.445071Z",
     "iopub.status.busy": "2025-06-19T12:52:49.444814Z",
     "iopub.status.idle": "2025-06-19T12:52:49.449920Z",
     "shell.execute_reply": "2025-06-19T12:52:49.448857Z",
     "shell.execute_reply.started": "2025-06-19T12:52:49.445055Z"
    }
   },
   "outputs": [
    {
     "data": {
      "text/plain": [
       "'h'"
      ]
     },
     "execution_count": 42,
     "metadata": {},
     "output_type": "execute_result"
    }
   ],
   "source": [
    "myString[0]"
   ]
  },
  {
   "cell_type": "code",
   "execution_count": 43,
   "metadata": {
    "execution": {
     "iopub.execute_input": "2025-06-19T12:52:50.178615Z",
     "iopub.status.busy": "2025-06-19T12:52:50.178412Z",
     "iopub.status.idle": "2025-06-19T12:52:50.184060Z",
     "shell.execute_reply": "2025-06-19T12:52:50.183467Z",
     "shell.execute_reply.started": "2025-06-19T12:52:50.178600Z"
    }
   },
   "outputs": [
    {
     "data": {
      "text/plain": [
       "'e'"
      ]
     },
     "execution_count": 43,
     "metadata": {},
     "output_type": "execute_result"
    }
   ],
   "source": [
    "myString[1]"
   ]
  },
  {
   "cell_type": "code",
   "execution_count": 44,
   "metadata": {
    "execution": {
     "iopub.execute_input": "2025-06-19T12:52:50.713105Z",
     "iopub.status.busy": "2025-06-19T12:52:50.712440Z",
     "iopub.status.idle": "2025-06-19T12:52:50.717116Z",
     "shell.execute_reply": "2025-06-19T12:52:50.716405Z",
     "shell.execute_reply.started": "2025-06-19T12:52:50.713083Z"
    }
   },
   "outputs": [
    {
     "data": {
      "text/plain": [
       "'n'"
      ]
     },
     "execution_count": 44,
     "metadata": {},
     "output_type": "execute_result"
    }
   ],
   "source": [
    "myString[11]"
   ]
  },
  {
   "cell_type": "code",
   "execution_count": 45,
   "metadata": {
    "execution": {
     "iopub.execute_input": "2025-06-19T12:52:51.055620Z",
     "iopub.status.busy": "2025-06-19T12:52:51.055070Z",
     "iopub.status.idle": "2025-06-19T12:52:51.059746Z",
     "shell.execute_reply": "2025-06-19T12:52:51.058963Z",
     "shell.execute_reply.started": "2025-06-19T12:52:51.055600Z"
    }
   },
   "outputs": [
    {
     "data": {
      "text/plain": [
       "'o'"
      ]
     },
     "execution_count": 45,
     "metadata": {},
     "output_type": "execute_result"
    }
   ],
   "source": [
    "myString[10]"
   ]
  },
  {
   "cell_type": "code",
   "execution_count": 46,
   "metadata": {
    "execution": {
     "iopub.execute_input": "2025-06-19T12:52:51.428732Z",
     "iopub.status.busy": "2025-06-19T12:52:51.428486Z",
     "iopub.status.idle": "2025-06-19T12:52:51.433253Z",
     "shell.execute_reply": "2025-06-19T12:52:51.432585Z",
     "shell.execute_reply.started": "2025-06-19T12:52:51.428717Z"
    }
   },
   "outputs": [
    {
     "data": {
      "text/plain": [
       "'hello python'"
      ]
     },
     "execution_count": 46,
     "metadata": {},
     "output_type": "execute_result"
    }
   ],
   "source": [
    "myString"
   ]
  },
  {
   "cell_type": "code",
   "execution_count": 48,
   "metadata": {
    "execution": {
     "iopub.execute_input": "2025-06-19T12:53:06.346323Z",
     "iopub.status.busy": "2025-06-19T12:53:06.346003Z",
     "iopub.status.idle": "2025-06-19T12:53:06.349485Z",
     "shell.execute_reply": "2025-06-19T12:53:06.348990Z",
     "shell.execute_reply.started": "2025-06-19T12:53:06.346306Z"
    }
   },
   "outputs": [],
   "source": [
    "myString = \"emre yildiz\""
   ]
  },
  {
   "cell_type": "code",
   "execution_count": 49,
   "metadata": {
    "execution": {
     "iopub.execute_input": "2025-06-19T12:53:07.520365Z",
     "iopub.status.busy": "2025-06-19T12:53:07.520113Z",
     "iopub.status.idle": "2025-06-19T12:53:07.524427Z",
     "shell.execute_reply": "2025-06-19T12:53:07.523750Z",
     "shell.execute_reply.started": "2025-06-19T12:53:07.520351Z"
    }
   },
   "outputs": [
    {
     "data": {
      "text/plain": [
       "'e'"
      ]
     },
     "execution_count": 49,
     "metadata": {},
     "output_type": "execute_result"
    }
   ],
   "source": [
    "myString[0]"
   ]
  },
  {
   "cell_type": "code",
   "execution_count": 51,
   "metadata": {
    "execution": {
     "iopub.execute_input": "2025-06-19T12:53:24.949662Z",
     "iopub.status.busy": "2025-06-19T12:53:24.949454Z",
     "iopub.status.idle": "2025-06-19T12:53:24.954239Z",
     "shell.execute_reply": "2025-06-19T12:53:24.953679Z",
     "shell.execute_reply.started": "2025-06-19T12:53:24.949648Z"
    }
   },
   "outputs": [
    {
     "data": {
      "text/plain": [
       "'i'"
      ]
     },
     "execution_count": 51,
     "metadata": {},
     "output_type": "execute_result"
    }
   ],
   "source": [
    "myString[9]"
   ]
  },
  {
   "cell_type": "code",
   "execution_count": 52,
   "metadata": {
    "execution": {
     "iopub.execute_input": "2025-06-19T12:53:36.481394Z",
     "iopub.status.busy": "2025-06-19T12:53:36.481155Z",
     "iopub.status.idle": "2025-06-19T12:53:36.486251Z",
     "shell.execute_reply": "2025-06-19T12:53:36.485645Z",
     "shell.execute_reply.started": "2025-06-19T12:53:36.481377Z"
    }
   },
   "outputs": [
    {
     "data": {
      "text/plain": [
       "'d'"
      ]
     },
     "execution_count": 52,
     "metadata": {},
     "output_type": "execute_result"
    }
   ],
   "source": [
    "myString[8]"
   ]
  },
  {
   "cell_type": "code",
   "execution_count": 53,
   "metadata": {
    "execution": {
     "iopub.execute_input": "2025-06-19T12:53:37.878322Z",
     "iopub.status.busy": "2025-06-19T12:53:37.878117Z",
     "iopub.status.idle": "2025-06-19T12:53:37.882785Z",
     "shell.execute_reply": "2025-06-19T12:53:37.882056Z",
     "shell.execute_reply.started": "2025-06-19T12:53:37.878308Z"
    }
   },
   "outputs": [
    {
     "data": {
      "text/plain": [
       "11"
      ]
     },
     "execution_count": 53,
     "metadata": {},
     "output_type": "execute_result"
    }
   ],
   "source": [
    "len(myString)"
   ]
  },
  {
   "cell_type": "code",
   "execution_count": 54,
   "metadata": {
    "execution": {
     "iopub.execute_input": "2025-06-19T12:53:40.370292Z",
     "iopub.status.busy": "2025-06-19T12:53:40.370087Z",
     "iopub.status.idle": "2025-06-19T12:53:40.375178Z",
     "shell.execute_reply": "2025-06-19T12:53:40.374324Z",
     "shell.execute_reply.started": "2025-06-19T12:53:40.370277Z"
    }
   },
   "outputs": [
    {
     "data": {
      "text/plain": [
       "10"
      ]
     },
     "execution_count": 54,
     "metadata": {},
     "output_type": "execute_result"
    }
   ],
   "source": [
    "len(myString) - 1"
   ]
  },
  {
   "cell_type": "code",
   "execution_count": 55,
   "metadata": {
    "execution": {
     "iopub.execute_input": "2025-06-19T12:53:48.133014Z",
     "iopub.status.busy": "2025-06-19T12:53:48.132678Z",
     "iopub.status.idle": "2025-06-19T12:53:48.136397Z",
     "shell.execute_reply": "2025-06-19T12:53:48.135826Z",
     "shell.execute_reply.started": "2025-06-19T12:53:48.132992Z"
    }
   },
   "outputs": [],
   "source": [
    "myName = \"james hetfield\""
   ]
  },
  {
   "cell_type": "code",
   "execution_count": 56,
   "metadata": {
    "execution": {
     "iopub.execute_input": "2025-06-19T12:53:49.938743Z",
     "iopub.status.busy": "2025-06-19T12:53:49.938486Z",
     "iopub.status.idle": "2025-06-19T12:53:49.943543Z",
     "shell.execute_reply": "2025-06-19T12:53:49.942760Z",
     "shell.execute_reply.started": "2025-06-19T12:53:49.938725Z"
    }
   },
   "outputs": [
    {
     "data": {
      "text/plain": [
       "'d'"
      ]
     },
     "execution_count": 56,
     "metadata": {},
     "output_type": "execute_result"
    }
   ],
   "source": [
    "myName[len(myName)-1]"
   ]
  },
  {
   "cell_type": "code",
   "execution_count": 57,
   "metadata": {
    "execution": {
     "iopub.execute_input": "2025-06-19T12:53:50.216792Z",
     "iopub.status.busy": "2025-06-19T12:53:50.216469Z",
     "iopub.status.idle": "2025-06-19T12:53:50.220920Z",
     "shell.execute_reply": "2025-06-19T12:53:50.220247Z",
     "shell.execute_reply.started": "2025-06-19T12:53:50.216772Z"
    }
   },
   "outputs": [
    {
     "data": {
      "text/plain": [
       "'d'"
      ]
     },
     "execution_count": 57,
     "metadata": {},
     "output_type": "execute_result"
    }
   ],
   "source": [
    "myName[-1]"
   ]
  },
  {
   "cell_type": "code",
   "execution_count": 58,
   "metadata": {
    "execution": {
     "iopub.execute_input": "2025-06-19T12:53:50.558039Z",
     "iopub.status.busy": "2025-06-19T12:53:50.557586Z",
     "iopub.status.idle": "2025-06-19T12:53:50.561903Z",
     "shell.execute_reply": "2025-06-19T12:53:50.561091Z",
     "shell.execute_reply.started": "2025-06-19T12:53:50.558021Z"
    }
   },
   "outputs": [
    {
     "data": {
      "text/plain": [
       "'l'"
      ]
     },
     "execution_count": 58,
     "metadata": {},
     "output_type": "execute_result"
    }
   ],
   "source": [
    "myName[-2]"
   ]
  },
  {
   "cell_type": "code",
   "execution_count": 59,
   "metadata": {
    "execution": {
     "iopub.execute_input": "2025-06-19T12:53:51.014112Z",
     "iopub.status.busy": "2025-06-19T12:53:51.013849Z",
     "iopub.status.idle": "2025-06-19T12:53:51.017158Z",
     "shell.execute_reply": "2025-06-19T12:53:51.016656Z",
     "shell.execute_reply.started": "2025-06-19T12:53:51.014094Z"
    }
   },
   "outputs": [],
   "source": [
    "barcode = \"ABCDE123123982\""
   ]
  },
  {
   "cell_type": "code",
   "execution_count": 60,
   "metadata": {
    "execution": {
     "iopub.execute_input": "2025-06-19T12:53:51.958781Z",
     "iopub.status.busy": "2025-06-19T12:53:51.958282Z",
     "iopub.status.idle": "2025-06-19T12:53:51.963521Z",
     "shell.execute_reply": "2025-06-19T12:53:51.962951Z",
     "shell.execute_reply.started": "2025-06-19T12:53:51.958762Z"
    }
   },
   "outputs": [
    {
     "data": {
      "text/plain": [
       "'A'"
      ]
     },
     "execution_count": 60,
     "metadata": {},
     "output_type": "execute_result"
    }
   ],
   "source": [
    "barcode[0]"
   ]
  },
  {
   "cell_type": "code",
   "execution_count": 61,
   "metadata": {
    "execution": {
     "iopub.execute_input": "2025-06-19T12:53:52.194998Z",
     "iopub.status.busy": "2025-06-19T12:53:52.194535Z",
     "iopub.status.idle": "2025-06-19T12:53:52.198601Z",
     "shell.execute_reply": "2025-06-19T12:53:52.197906Z",
     "shell.execute_reply.started": "2025-06-19T12:53:52.194980Z"
    }
   },
   "outputs": [
    {
     "data": {
      "text/plain": [
       "'B'"
      ]
     },
     "execution_count": 61,
     "metadata": {},
     "output_type": "execute_result"
    }
   ],
   "source": [
    "barcode[1]"
   ]
  },
  {
   "cell_type": "code",
   "execution_count": 62,
   "metadata": {
    "execution": {
     "iopub.execute_input": "2025-06-19T12:53:52.767604Z",
     "iopub.status.busy": "2025-06-19T12:53:52.767152Z",
     "iopub.status.idle": "2025-06-19T12:53:52.771895Z",
     "shell.execute_reply": "2025-06-19T12:53:52.771291Z",
     "shell.execute_reply.started": "2025-06-19T12:53:52.767587Z"
    }
   },
   "outputs": [
    {
     "data": {
      "text/plain": [
       "'C'"
      ]
     },
     "execution_count": 62,
     "metadata": {},
     "output_type": "execute_result"
    }
   ],
   "source": [
    "barcode[2]"
   ]
  },
  {
   "cell_type": "code",
   "execution_count": 63,
   "metadata": {
    "execution": {
     "iopub.execute_input": "2025-06-19T12:53:57.900330Z",
     "iopub.status.busy": "2025-06-19T12:53:57.900117Z",
     "iopub.status.idle": "2025-06-19T12:53:57.904800Z",
     "shell.execute_reply": "2025-06-19T12:53:57.904106Z",
     "shell.execute_reply.started": "2025-06-19T12:53:57.900315Z"
    }
   },
   "outputs": [
    {
     "data": {
      "text/plain": [
       "30"
      ]
     },
     "execution_count": 63,
     "metadata": {},
     "output_type": "execute_result"
    }
   ],
   "source": [
    "10 + 20"
   ]
  },
  {
   "cell_type": "code",
   "execution_count": 64,
   "metadata": {
    "execution": {
     "iopub.execute_input": "2025-06-19T12:53:58.113075Z",
     "iopub.status.busy": "2025-06-19T12:53:58.112621Z",
     "iopub.status.idle": "2025-06-19T12:53:58.117156Z",
     "shell.execute_reply": "2025-06-19T12:53:58.116505Z",
     "shell.execute_reply.started": "2025-06-19T12:53:58.113057Z"
    }
   },
   "outputs": [
    {
     "data": {
      "text/plain": [
       "'AB'"
      ]
     },
     "execution_count": 64,
     "metadata": {},
     "output_type": "execute_result"
    }
   ],
   "source": [
    "\"A\" + \"B\""
   ]
  },
  {
   "cell_type": "code",
   "execution_count": 66,
   "metadata": {
    "execution": {
     "iopub.execute_input": "2025-06-19T12:54:06.539571Z",
     "iopub.status.busy": "2025-06-19T12:54:06.539210Z",
     "iopub.status.idle": "2025-06-19T12:54:06.542515Z",
     "shell.execute_reply": "2025-06-19T12:54:06.541971Z",
     "shell.execute_reply.started": "2025-06-19T12:54:06.539550Z"
    }
   },
   "outputs": [],
   "source": [
    "name = \"emre\""
   ]
  },
  {
   "cell_type": "code",
   "execution_count": 67,
   "metadata": {
    "execution": {
     "iopub.execute_input": "2025-06-19T12:54:15.844770Z",
     "iopub.status.busy": "2025-06-19T12:54:15.844543Z",
     "iopub.status.idle": "2025-06-19T12:54:15.847509Z",
     "shell.execute_reply": "2025-06-19T12:54:15.846985Z",
     "shell.execute_reply.started": "2025-06-19T12:54:15.844754Z"
    }
   },
   "outputs": [],
   "source": [
    "surname = \"yildiz\""
   ]
  },
  {
   "cell_type": "code",
   "execution_count": 68,
   "metadata": {
    "execution": {
     "iopub.execute_input": "2025-06-19T12:54:16.976044Z",
     "iopub.status.busy": "2025-06-19T12:54:16.975828Z",
     "iopub.status.idle": "2025-06-19T12:54:16.980162Z",
     "shell.execute_reply": "2025-06-19T12:54:16.979553Z",
     "shell.execute_reply.started": "2025-06-19T12:54:16.976029Z"
    }
   },
   "outputs": [],
   "source": [
    "fullname = name + \" \" + surname"
   ]
  },
  {
   "cell_type": "code",
   "execution_count": 69,
   "metadata": {
    "execution": {
     "iopub.execute_input": "2025-06-19T12:54:17.698620Z",
     "iopub.status.busy": "2025-06-19T12:54:17.698207Z",
     "iopub.status.idle": "2025-06-19T12:54:17.702414Z",
     "shell.execute_reply": "2025-06-19T12:54:17.701751Z",
     "shell.execute_reply.started": "2025-06-19T12:54:17.698603Z"
    }
   },
   "outputs": [
    {
     "data": {
      "text/plain": [
       "'emre yildiz'"
      ]
     },
     "execution_count": 69,
     "metadata": {},
     "output_type": "execute_result"
    }
   ],
   "source": [
    "fullname"
   ]
  },
  {
   "cell_type": "code",
   "execution_count": 70,
   "metadata": {
    "execution": {
     "iopub.execute_input": "2025-06-19T12:54:18.512852Z",
     "iopub.status.busy": "2025-06-19T12:54:18.512438Z",
     "iopub.status.idle": "2025-06-19T12:54:18.518888Z",
     "shell.execute_reply": "2025-06-19T12:54:18.517878Z",
     "shell.execute_reply.started": "2025-06-19T12:54:18.512834Z"
    }
   },
   "outputs": [
    {
     "data": {
      "text/plain": [
       "'emre yildiz'"
      ]
     },
     "execution_count": 70,
     "metadata": {},
     "output_type": "execute_result"
    }
   ],
   "source": [
    "fullname"
   ]
  },
  {
   "cell_type": "code",
   "execution_count": 71,
   "metadata": {
    "execution": {
     "iopub.execute_input": "2025-06-19T12:54:20.318287Z",
     "iopub.status.busy": "2025-06-19T12:54:20.318025Z",
     "iopub.status.idle": "2025-06-19T12:54:20.322790Z",
     "shell.execute_reply": "2025-06-19T12:54:20.322109Z",
     "shell.execute_reply.started": "2025-06-19T12:54:20.318267Z"
    }
   },
   "outputs": [
    {
     "data": {
      "text/plain": [
       "'emre yildizemre yildizemre yildizemre yildizemre yildiz'"
      ]
     },
     "execution_count": 71,
     "metadata": {},
     "output_type": "execute_result"
    }
   ],
   "source": [
    "fullname * 5"
   ]
  },
  {
   "cell_type": "code",
   "execution_count": 72,
   "metadata": {
    "execution": {
     "iopub.execute_input": "2025-06-19T12:54:22.532789Z",
     "iopub.status.busy": "2025-06-19T12:54:22.532570Z",
     "iopub.status.idle": "2025-06-19T12:54:22.537183Z",
     "shell.execute_reply": "2025-06-19T12:54:22.536643Z",
     "shell.execute_reply.started": "2025-06-19T12:54:22.532775Z"
    }
   },
   "outputs": [
    {
     "data": {
      "text/plain": [
       "'aaaaaaaaaaaaaaaaaaaaaaaaaaaaaaaaaaaaaaaaaaaaaaaaaaaaaaaaaaaaaaaaaaaaaaaaaaaaaaaaaaaaaaaaaaaaaaaaaaaa'"
      ]
     },
     "execution_count": 72,
     "metadata": {},
     "output_type": "execute_result"
    }
   ],
   "source": [
    "100 * \"a\""
   ]
  },
  {
   "cell_type": "code",
   "execution_count": 73,
   "metadata": {
    "execution": {
     "iopub.execute_input": "2025-06-19T12:54:23.659183Z",
     "iopub.status.busy": "2025-06-19T12:54:23.658760Z",
     "iopub.status.idle": "2025-06-19T12:54:23.663098Z",
     "shell.execute_reply": "2025-06-19T12:54:23.662477Z",
     "shell.execute_reply.started": "2025-06-19T12:54:23.659165Z"
    }
   },
   "outputs": [
    {
     "data": {
      "text/plain": [
       "'ABCDE123123982'"
      ]
     },
     "execution_count": 73,
     "metadata": {},
     "output_type": "execute_result"
    }
   ],
   "source": [
    "barcode"
   ]
  },
  {
   "cell_type": "code",
   "execution_count": 74,
   "metadata": {
    "execution": {
     "iopub.execute_input": "2025-06-19T12:54:24.061498Z",
     "iopub.status.busy": "2025-06-19T12:54:24.060835Z",
     "iopub.status.idle": "2025-06-19T12:54:24.065359Z",
     "shell.execute_reply": "2025-06-19T12:54:24.064701Z",
     "shell.execute_reply.started": "2025-06-19T12:54:24.061477Z"
    }
   },
   "outputs": [
    {
     "data": {
      "text/plain": [
       "'ABC'"
      ]
     },
     "execution_count": 74,
     "metadata": {},
     "output_type": "execute_result"
    }
   ],
   "source": [
    "barcode[0] + barcode[1] + barcode[2]"
   ]
  },
  {
   "cell_type": "code",
   "execution_count": 75,
   "metadata": {
    "execution": {
     "iopub.execute_input": "2025-06-19T12:54:24.434877Z",
     "iopub.status.busy": "2025-06-19T12:54:24.434600Z",
     "iopub.status.idle": "2025-06-19T12:54:24.437667Z",
     "shell.execute_reply": "2025-06-19T12:54:24.437213Z",
     "shell.execute_reply.started": "2025-06-19T12:54:24.434857Z"
    }
   },
   "outputs": [],
   "source": [
    "#slicing, starting index, stopping index, stepping size"
   ]
  },
  {
   "cell_type": "code",
   "execution_count": 76,
   "metadata": {
    "execution": {
     "iopub.execute_input": "2025-06-19T12:54:25.076979Z",
     "iopub.status.busy": "2025-06-19T12:54:25.076717Z",
     "iopub.status.idle": "2025-06-19T12:54:25.080953Z",
     "shell.execute_reply": "2025-06-19T12:54:25.080374Z",
     "shell.execute_reply.started": "2025-06-19T12:54:25.076960Z"
    }
   },
   "outputs": [
    {
     "data": {
      "text/plain": [
       "'ABCDE123123982'"
      ]
     },
     "execution_count": 76,
     "metadata": {},
     "output_type": "execute_result"
    }
   ],
   "source": [
    "barcode"
   ]
  },
  {
   "cell_type": "code",
   "execution_count": 77,
   "metadata": {
    "execution": {
     "iopub.execute_input": "2025-06-19T12:54:25.406771Z",
     "iopub.status.busy": "2025-06-19T12:54:25.406548Z",
     "iopub.status.idle": "2025-06-19T12:54:25.411807Z",
     "shell.execute_reply": "2025-06-19T12:54:25.411259Z",
     "shell.execute_reply.started": "2025-06-19T12:54:25.406757Z"
    }
   },
   "outputs": [
    {
     "data": {
      "text/plain": [
       "'ABCDE123123982'"
      ]
     },
     "execution_count": 77,
     "metadata": {},
     "output_type": "execute_result"
    }
   ],
   "source": [
    "barcode[::]"
   ]
  },
  {
   "cell_type": "code",
   "execution_count": 78,
   "metadata": {
    "execution": {
     "iopub.execute_input": "2025-06-19T12:54:25.815708Z",
     "iopub.status.busy": "2025-06-19T12:54:25.815251Z",
     "iopub.status.idle": "2025-06-19T12:54:25.819098Z",
     "shell.execute_reply": "2025-06-19T12:54:25.818132Z",
     "shell.execute_reply.started": "2025-06-19T12:54:25.815690Z"
    }
   },
   "outputs": [],
   "source": [
    "#barcode[starting index:stopping index:stepping size]"
   ]
  },
  {
   "cell_type": "code",
   "execution_count": 79,
   "metadata": {
    "execution": {
     "iopub.execute_input": "2025-06-19T12:54:26.253559Z",
     "iopub.status.busy": "2025-06-19T12:54:26.253074Z",
     "iopub.status.idle": "2025-06-19T12:54:26.257677Z",
     "shell.execute_reply": "2025-06-19T12:54:26.256910Z",
     "shell.execute_reply.started": "2025-06-19T12:54:26.253538Z"
    }
   },
   "outputs": [
    {
     "data": {
      "text/plain": [
       "'DE123123982'"
      ]
     },
     "execution_count": 79,
     "metadata": {},
     "output_type": "execute_result"
    }
   ],
   "source": [
    "barcode[3::]"
   ]
  },
  {
   "cell_type": "code",
   "execution_count": 80,
   "metadata": {
    "execution": {
     "iopub.execute_input": "2025-06-19T12:54:26.865695Z",
     "iopub.status.busy": "2025-06-19T12:54:26.865263Z",
     "iopub.status.idle": "2025-06-19T12:54:26.870056Z",
     "shell.execute_reply": "2025-06-19T12:54:26.869237Z",
     "shell.execute_reply.started": "2025-06-19T12:54:26.865677Z"
    }
   },
   "outputs": [
    {
     "data": {
      "text/plain": [
       "'ABC'"
      ]
     },
     "execution_count": 80,
     "metadata": {},
     "output_type": "execute_result"
    }
   ],
   "source": [
    "barcode[:3:]"
   ]
  },
  {
   "cell_type": "code",
   "execution_count": 81,
   "metadata": {
    "execution": {
     "iopub.execute_input": "2025-06-19T12:54:27.218904Z",
     "iopub.status.busy": "2025-06-19T12:54:27.218141Z",
     "iopub.status.idle": "2025-06-19T12:54:27.222974Z",
     "shell.execute_reply": "2025-06-19T12:54:27.222477Z",
     "shell.execute_reply.started": "2025-06-19T12:54:27.218884Z"
    }
   },
   "outputs": [
    {
     "data": {
      "text/plain": [
       "'ABCDE'"
      ]
     },
     "execution_count": 81,
     "metadata": {},
     "output_type": "execute_result"
    }
   ],
   "source": [
    "barcode[:5:]"
   ]
  },
  {
   "cell_type": "code",
   "execution_count": 82,
   "metadata": {
    "execution": {
     "iopub.execute_input": "2025-06-19T12:54:27.473686Z",
     "iopub.status.busy": "2025-06-19T12:54:27.473050Z",
     "iopub.status.idle": "2025-06-19T12:54:27.477548Z",
     "shell.execute_reply": "2025-06-19T12:54:27.476893Z",
     "shell.execute_reply.started": "2025-06-19T12:54:27.473667Z"
    }
   },
   "outputs": [
    {
     "data": {
      "text/plain": [
       "'ABCDE123123982'"
      ]
     },
     "execution_count": 82,
     "metadata": {},
     "output_type": "execute_result"
    }
   ],
   "source": [
    "barcode"
   ]
  },
  {
   "cell_type": "code",
   "execution_count": 83,
   "metadata": {
    "execution": {
     "iopub.execute_input": "2025-06-19T12:54:29.230147Z",
     "iopub.status.busy": "2025-06-19T12:54:29.229750Z",
     "iopub.status.idle": "2025-06-19T12:54:29.234424Z",
     "shell.execute_reply": "2025-06-19T12:54:29.233624Z",
     "shell.execute_reply.started": "2025-06-19T12:54:29.230129Z"
    }
   },
   "outputs": [
    {
     "data": {
      "text/plain": [
       "'ABCDE'"
      ]
     },
     "execution_count": 83,
     "metadata": {},
     "output_type": "execute_result"
    }
   ],
   "source": [
    "barcode[:5:]"
   ]
  },
  {
   "cell_type": "code",
   "execution_count": 84,
   "metadata": {
    "execution": {
     "iopub.execute_input": "2025-06-19T12:54:29.532188Z",
     "iopub.status.busy": "2025-06-19T12:54:29.531912Z",
     "iopub.status.idle": "2025-06-19T12:54:29.536185Z",
     "shell.execute_reply": "2025-06-19T12:54:29.535620Z",
     "shell.execute_reply.started": "2025-06-19T12:54:29.532168Z"
    }
   },
   "outputs": [
    {
     "data": {
      "text/plain": [
       "'ABCDE123123982'"
      ]
     },
     "execution_count": 84,
     "metadata": {},
     "output_type": "execute_result"
    }
   ],
   "source": [
    "barcode"
   ]
  },
  {
   "cell_type": "code",
   "execution_count": 85,
   "metadata": {
    "execution": {
     "iopub.execute_input": "2025-06-19T12:54:29.735927Z",
     "iopub.status.busy": "2025-06-19T12:54:29.735713Z",
     "iopub.status.idle": "2025-06-19T12:54:29.739989Z",
     "shell.execute_reply": "2025-06-19T12:54:29.739489Z",
     "shell.execute_reply.started": "2025-06-19T12:54:29.735912Z"
    }
   },
   "outputs": [
    {
     "data": {
      "text/plain": [
       "'ACE2138'"
      ]
     },
     "execution_count": 85,
     "metadata": {},
     "output_type": "execute_result"
    }
   ],
   "source": [
    "barcode[::2]"
   ]
  },
  {
   "cell_type": "code",
   "execution_count": 86,
   "metadata": {
    "execution": {
     "iopub.execute_input": "2025-06-19T12:54:29.947217Z",
     "iopub.status.busy": "2025-06-19T12:54:29.946985Z",
     "iopub.status.idle": "2025-06-19T12:54:29.952546Z",
     "shell.execute_reply": "2025-06-19T12:54:29.951923Z",
     "shell.execute_reply.started": "2025-06-19T12:54:29.947199Z"
    }
   },
   "outputs": [
    {
     "data": {
      "text/plain": [
       "'AD228'"
      ]
     },
     "execution_count": 86,
     "metadata": {},
     "output_type": "execute_result"
    }
   ],
   "source": [
    "barcode[::3]"
   ]
  },
  {
   "cell_type": "code",
   "execution_count": 87,
   "metadata": {
    "execution": {
     "iopub.execute_input": "2025-06-19T12:54:30.337846Z",
     "iopub.status.busy": "2025-06-19T12:54:30.337638Z",
     "iopub.status.idle": "2025-06-19T12:54:30.341820Z",
     "shell.execute_reply": "2025-06-19T12:54:30.341203Z",
     "shell.execute_reply.started": "2025-06-19T12:54:30.337829Z"
    }
   },
   "outputs": [
    {
     "data": {
      "text/plain": [
       "'ABCDE123123982'"
      ]
     },
     "execution_count": 87,
     "metadata": {},
     "output_type": "execute_result"
    }
   ],
   "source": [
    "barcode[::]"
   ]
  },
  {
   "cell_type": "code",
   "execution_count": 88,
   "metadata": {
    "execution": {
     "iopub.execute_input": "2025-06-19T12:54:30.675103Z",
     "iopub.status.busy": "2025-06-19T12:54:30.674446Z",
     "iopub.status.idle": "2025-06-19T12:54:30.679242Z",
     "shell.execute_reply": "2025-06-19T12:54:30.678710Z",
     "shell.execute_reply.started": "2025-06-19T12:54:30.675085Z"
    }
   },
   "outputs": [
    {
     "data": {
      "text/plain": [
       "'DE'"
      ]
     },
     "execution_count": 88,
     "metadata": {},
     "output_type": "execute_result"
    }
   ],
   "source": [
    "barcode[3:5:]"
   ]
  },
  {
   "cell_type": "code",
   "execution_count": 89,
   "metadata": {
    "execution": {
     "iopub.execute_input": "2025-06-19T12:54:31.107136Z",
     "iopub.status.busy": "2025-06-19T12:54:31.106775Z",
     "iopub.status.idle": "2025-06-19T12:54:31.111800Z",
     "shell.execute_reply": "2025-06-19T12:54:31.111159Z",
     "shell.execute_reply.started": "2025-06-19T12:54:31.107118Z"
    }
   },
   "outputs": [
    {
     "data": {
      "text/plain": [
       "'DE'"
      ]
     },
     "execution_count": 89,
     "metadata": {},
     "output_type": "execute_result"
    }
   ],
   "source": [
    "barcode[3:5]"
   ]
  },
  {
   "cell_type": "code",
   "execution_count": 90,
   "metadata": {
    "execution": {
     "iopub.execute_input": "2025-06-19T12:54:31.314735Z",
     "iopub.status.busy": "2025-06-19T12:54:31.314518Z",
     "iopub.status.idle": "2025-06-19T12:54:31.318795Z",
     "shell.execute_reply": "2025-06-19T12:54:31.318195Z",
     "shell.execute_reply.started": "2025-06-19T12:54:31.314718Z"
    }
   },
   "outputs": [
    {
     "data": {
      "text/plain": [
       "'BD13'"
      ]
     },
     "execution_count": 90,
     "metadata": {},
     "output_type": "execute_result"
    }
   ],
   "source": [
    "barcode[1:9:2]"
   ]
  },
  {
   "cell_type": "code",
   "execution_count": 91,
   "metadata": {
    "execution": {
     "iopub.execute_input": "2025-06-19T12:54:31.487832Z",
     "iopub.status.busy": "2025-06-19T12:54:31.487367Z",
     "iopub.status.idle": "2025-06-19T12:54:31.491469Z",
     "shell.execute_reply": "2025-06-19T12:54:31.490935Z",
     "shell.execute_reply.started": "2025-06-19T12:54:31.487814Z"
    }
   },
   "outputs": [
    {
     "data": {
      "text/plain": [
       "'289321321EDCBA'"
      ]
     },
     "execution_count": 91,
     "metadata": {},
     "output_type": "execute_result"
    }
   ],
   "source": [
    "barcode[::-1]"
   ]
  },
  {
   "cell_type": "code",
   "execution_count": 92,
   "metadata": {
    "execution": {
     "iopub.execute_input": "2025-06-19T12:54:31.687080Z",
     "iopub.status.busy": "2025-06-19T12:54:31.686516Z",
     "iopub.status.idle": "2025-06-19T12:54:31.691370Z",
     "shell.execute_reply": "2025-06-19T12:54:31.690499Z",
     "shell.execute_reply.started": "2025-06-19T12:54:31.687062Z"
    }
   },
   "outputs": [
    {
     "data": {
      "text/plain": [
       "'ABCDE123123982'"
      ]
     },
     "execution_count": 92,
     "metadata": {},
     "output_type": "execute_result"
    }
   ],
   "source": [
    "barcode"
   ]
  },
  {
   "cell_type": "code",
   "execution_count": 93,
   "metadata": {
    "execution": {
     "iopub.execute_input": "2025-06-19T12:54:42.760846Z",
     "iopub.status.busy": "2025-06-19T12:54:42.760614Z",
     "iopub.status.idle": "2025-06-19T12:54:42.764101Z",
     "shell.execute_reply": "2025-06-19T12:54:42.763273Z",
     "shell.execute_reply.started": "2025-06-19T12:54:42.760830Z"
    }
   },
   "outputs": [],
   "source": [
    "name = \"emre yildiz\""
   ]
  },
  {
   "cell_type": "code",
   "execution_count": 94,
   "metadata": {
    "execution": {
     "iopub.execute_input": "2025-06-19T12:54:43.514459Z",
     "iopub.status.busy": "2025-06-19T12:54:43.514206Z",
     "iopub.status.idle": "2025-06-19T12:54:43.517614Z",
     "shell.execute_reply": "2025-06-19T12:54:43.517009Z",
     "shell.execute_reply.started": "2025-06-19T12:54:43.514442Z"
    }
   },
   "outputs": [
    {
     "name": "stdout",
     "output_type": "stream",
     "text": [
      "Help on built-in function index:\n",
      "\n",
      "index(...) method of builtins.str instance\n",
      "    S.index(sub[, start[, end]]) -> int\n",
      "\n",
      "    Return the lowest index in S where substring sub is found,\n",
      "    such that sub is contained within S[start:end].  Optional\n",
      "    arguments start and end are interpreted as in slice notation.\n",
      "\n",
      "    Raises ValueError when the substring is not found.\n",
      "\n"
     ]
    }
   ],
   "source": [
    "help(name.index)"
   ]
  },
  {
   "cell_type": "code",
   "execution_count": 95,
   "metadata": {
    "execution": {
     "iopub.execute_input": "2025-06-19T12:54:52.305692Z",
     "iopub.status.busy": "2025-06-19T12:54:52.305193Z",
     "iopub.status.idle": "2025-06-19T12:54:52.310295Z",
     "shell.execute_reply": "2025-06-19T12:54:52.309468Z",
     "shell.execute_reply.started": "2025-06-19T12:54:52.305672Z"
    }
   },
   "outputs": [
    {
     "data": {
      "text/plain": [
       "10"
      ]
     },
     "execution_count": 95,
     "metadata": {},
     "output_type": "execute_result"
    }
   ],
   "source": [
    "name.index(\"z\")"
   ]
  },
  {
   "cell_type": "code",
   "execution_count": 96,
   "metadata": {
    "execution": {
     "iopub.execute_input": "2025-06-19T12:54:57.540534Z",
     "iopub.status.busy": "2025-06-19T12:54:57.540275Z",
     "iopub.status.idle": "2025-06-19T12:54:57.544876Z",
     "shell.execute_reply": "2025-06-19T12:54:57.544276Z",
     "shell.execute_reply.started": "2025-06-19T12:54:57.540517Z"
    }
   },
   "outputs": [
    {
     "data": {
      "text/plain": [
       "['emre', 'yildiz']"
      ]
     },
     "execution_count": 96,
     "metadata": {},
     "output_type": "execute_result"
    }
   ],
   "source": [
    "name.split()"
   ]
  },
  {
   "cell_type": "code",
   "execution_count": 97,
   "metadata": {
    "execution": {
     "iopub.execute_input": "2025-06-19T12:54:59.708549Z",
     "iopub.status.busy": "2025-06-19T12:54:59.708309Z",
     "iopub.status.idle": "2025-06-19T12:54:59.713599Z",
     "shell.execute_reply": "2025-06-19T12:54:59.712855Z",
     "shell.execute_reply.started": "2025-06-19T12:54:59.708534Z"
    }
   },
   "outputs": [
    {
     "data": {
      "text/plain": [
       "list"
      ]
     },
     "execution_count": 97,
     "metadata": {},
     "output_type": "execute_result"
    }
   ],
   "source": [
    "type(name.split())"
   ]
  },
  {
   "cell_type": "code",
   "execution_count": null,
   "metadata": {},
   "outputs": [],
   "source": []
  }
 ],
 "metadata": {
  "kernelspec": {
   "display_name": "Python 3 (ipykernel)",
   "language": "python",
   "name": "python3"
  },
  "language_info": {
   "codemirror_mode": {
    "name": "ipython",
    "version": 3
   },
   "file_extension": ".py",
   "mimetype": "text/x-python",
   "name": "python",
   "nbconvert_exporter": "python",
   "pygments_lexer": "ipython3",
   "version": "3.12.9"
  }
 },
 "nbformat": 4,
 "nbformat_minor": 4
}
