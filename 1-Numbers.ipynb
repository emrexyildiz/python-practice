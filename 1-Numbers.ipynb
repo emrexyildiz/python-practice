{
 "cells": [
  {
   "cell_type": "code",
   "execution_count": 1,
   "metadata": {
    "execution": {
     "iopub.execute_input": "2025-06-19T12:55:23.764473Z",
     "iopub.status.busy": "2025-06-19T12:55:23.763455Z",
     "iopub.status.idle": "2025-06-19T12:55:23.770722Z",
     "shell.execute_reply": "2025-06-19T12:55:23.769795Z",
     "shell.execute_reply.started": "2025-06-19T12:55:23.764446Z"
    }
   },
   "outputs": [
    {
     "data": {
      "text/plain": [
       "8"
      ]
     },
     "execution_count": 1,
     "metadata": {},
     "output_type": "execute_result"
    }
   ],
   "source": [
    "3 + 5"
   ]
  },
  {
   "cell_type": "code",
   "execution_count": 2,
   "metadata": {
    "execution": {
     "iopub.execute_input": "2025-06-19T12:55:23.772344Z",
     "iopub.status.busy": "2025-06-19T12:55:23.771874Z",
     "iopub.status.idle": "2025-06-19T12:55:23.777357Z",
     "shell.execute_reply": "2025-06-19T12:55:23.776444Z",
     "shell.execute_reply.started": "2025-06-19T12:55:23.772325Z"
    }
   },
   "outputs": [
    {
     "data": {
      "text/plain": [
       "12"
      ]
     },
     "execution_count": 2,
     "metadata": {},
     "output_type": "execute_result"
    }
   ],
   "source": [
    "4 * 3"
   ]
  },
  {
   "cell_type": "markdown",
   "metadata": {},
   "source": [
    "# variables"
   ]
  },
  {
   "cell_type": "code",
   "execution_count": 3,
   "metadata": {
    "execution": {
     "iopub.execute_input": "2025-06-19T12:55:23.778275Z",
     "iopub.status.busy": "2025-06-19T12:55:23.777864Z",
     "iopub.status.idle": "2025-06-19T12:55:23.782359Z",
     "shell.execute_reply": "2025-06-19T12:55:23.781624Z",
     "shell.execute_reply.started": "2025-06-19T12:55:23.778261Z"
    }
   },
   "outputs": [
    {
     "data": {
      "text/plain": [
       "225.0"
      ]
     },
     "execution_count": 3,
     "metadata": {},
     "output_type": "execute_result"
    }
   ],
   "source": [
    "900 / 4"
   ]
  },
  {
   "cell_type": "code",
   "execution_count": 4,
   "metadata": {
    "execution": {
     "iopub.execute_input": "2025-06-19T12:55:23.783874Z",
     "iopub.status.busy": "2025-06-19T12:55:23.783600Z",
     "iopub.status.idle": "2025-06-19T12:55:23.788207Z",
     "shell.execute_reply": "2025-06-19T12:55:23.787452Z",
     "shell.execute_reply.started": "2025-06-19T12:55:23.783858Z"
    }
   },
   "outputs": [
    {
     "data": {
      "text/plain": [
       "128.57142857142858"
      ]
     },
     "execution_count": 4,
     "metadata": {},
     "output_type": "execute_result"
    }
   ],
   "source": [
    "900 / 7"
   ]
  },
  {
   "cell_type": "code",
   "execution_count": 5,
   "metadata": {
    "execution": {
     "iopub.execute_input": "2025-06-19T12:55:23.789194Z",
     "iopub.status.busy": "2025-06-19T12:55:23.788993Z",
     "iopub.status.idle": "2025-06-19T12:55:23.792767Z",
     "shell.execute_reply": "2025-06-19T12:55:23.792244Z",
     "shell.execute_reply.started": "2025-06-19T12:55:23.789180Z"
    }
   },
   "outputs": [
    {
     "data": {
      "text/plain": [
       "-90"
      ]
     },
     "execution_count": 5,
     "metadata": {},
     "output_type": "execute_result"
    }
   ],
   "source": [
    "10 - 100"
   ]
  },
  {
   "cell_type": "code",
   "execution_count": 6,
   "metadata": {
    "execution": {
     "iopub.execute_input": "2025-06-19T12:55:23.793729Z",
     "iopub.status.busy": "2025-06-19T12:55:23.793431Z",
     "iopub.status.idle": "2025-06-19T12:55:23.797698Z",
     "shell.execute_reply": "2025-06-19T12:55:23.796858Z",
     "shell.execute_reply.started": "2025-06-19T12:55:23.793697Z"
    }
   },
   "outputs": [
    {
     "data": {
      "text/plain": [
       "3125"
      ]
     },
     "execution_count": 6,
     "metadata": {},
     "output_type": "execute_result"
    }
   ],
   "source": [
    "5 * 5 * 5 * 5 * 5"
   ]
  },
  {
   "cell_type": "code",
   "execution_count": 7,
   "metadata": {
    "execution": {
     "iopub.execute_input": "2025-06-19T12:55:23.798952Z",
     "iopub.status.busy": "2025-06-19T12:55:23.798803Z",
     "iopub.status.idle": "2025-06-19T12:55:23.803931Z",
     "shell.execute_reply": "2025-06-19T12:55:23.802827Z",
     "shell.execute_reply.started": "2025-06-19T12:55:23.798939Z"
    }
   },
   "outputs": [
    {
     "data": {
      "text/plain": [
       "3125"
      ]
     },
     "execution_count": 7,
     "metadata": {},
     "output_type": "execute_result"
    }
   ],
   "source": [
    "5*5*5*5*5"
   ]
  },
  {
   "cell_type": "code",
   "execution_count": 8,
   "metadata": {
    "execution": {
     "iopub.execute_input": "2025-06-19T12:55:23.805057Z",
     "iopub.status.busy": "2025-06-19T12:55:23.804750Z",
     "iopub.status.idle": "2025-06-19T12:55:23.810355Z",
     "shell.execute_reply": "2025-06-19T12:55:23.809829Z",
     "shell.execute_reply.started": "2025-06-19T12:55:23.805022Z"
    }
   },
   "outputs": [
    {
     "data": {
      "text/plain": [
       "6"
      ]
     },
     "execution_count": 8,
     "metadata": {},
     "output_type": "execute_result"
    }
   ],
   "source": [
    "4+2"
   ]
  },
  {
   "cell_type": "code",
   "execution_count": 9,
   "metadata": {
    "execution": {
     "iopub.execute_input": "2025-06-19T12:55:23.811469Z",
     "iopub.status.busy": "2025-06-19T12:55:23.810951Z",
     "iopub.status.idle": "2025-06-19T12:55:23.814996Z",
     "shell.execute_reply": "2025-06-19T12:55:23.814487Z",
     "shell.execute_reply.started": "2025-06-19T12:55:23.811451Z"
    }
   },
   "outputs": [
    {
     "data": {
      "text/plain": [
       "30.0"
      ]
     },
     "execution_count": 9,
     "metadata": {},
     "output_type": "execute_result"
    }
   ],
   "source": [
    "60 / 2"
   ]
  },
  {
   "cell_type": "code",
   "execution_count": 10,
   "metadata": {
    "execution": {
     "iopub.execute_input": "2025-06-19T12:55:23.817742Z",
     "iopub.status.busy": "2025-06-19T12:55:23.817546Z",
     "iopub.status.idle": "2025-06-19T12:55:23.822040Z",
     "shell.execute_reply": "2025-06-19T12:55:23.821393Z",
     "shell.execute_reply.started": "2025-06-19T12:55:23.817727Z"
    }
   },
   "outputs": [
    {
     "data": {
      "text/plain": [
       "300"
      ]
     },
     "execution_count": 10,
     "metadata": {},
     "output_type": "execute_result"
    }
   ],
   "source": [
    "60 * 5"
   ]
  },
  {
   "cell_type": "code",
   "execution_count": 11,
   "metadata": {
    "execution": {
     "iopub.execute_input": "2025-06-19T12:55:23.823415Z",
     "iopub.status.busy": "2025-06-19T12:55:23.823133Z",
     "iopub.status.idle": "2025-06-19T12:55:23.827199Z",
     "shell.execute_reply": "2025-06-19T12:55:23.826366Z",
     "shell.execute_reply.started": "2025-06-19T12:55:23.823396Z"
    }
   },
   "outputs": [],
   "source": [
    "age = 50"
   ]
  },
  {
   "cell_type": "code",
   "execution_count": 12,
   "metadata": {
    "execution": {
     "iopub.execute_input": "2025-06-19T12:55:23.828860Z",
     "iopub.status.busy": "2025-06-19T12:55:23.828523Z",
     "iopub.status.idle": "2025-06-19T12:55:23.833907Z",
     "shell.execute_reply": "2025-06-19T12:55:23.833147Z",
     "shell.execute_reply.started": "2025-06-19T12:55:23.828820Z"
    }
   },
   "outputs": [
    {
     "data": {
      "text/plain": [
       "50"
      ]
     },
     "execution_count": 12,
     "metadata": {},
     "output_type": "execute_result"
    }
   ],
   "source": [
    "age"
   ]
  },
  {
   "cell_type": "code",
   "execution_count": 13,
   "metadata": {
    "execution": {
     "iopub.execute_input": "2025-06-19T12:55:23.834810Z",
     "iopub.status.busy": "2025-06-19T12:55:23.834656Z",
     "iopub.status.idle": "2025-06-19T12:55:23.839140Z",
     "shell.execute_reply": "2025-06-19T12:55:23.838478Z",
     "shell.execute_reply.started": "2025-06-19T12:55:23.834798Z"
    }
   },
   "outputs": [
    {
     "data": {
      "text/plain": [
       "250"
      ]
     },
     "execution_count": 13,
     "metadata": {},
     "output_type": "execute_result"
    }
   ],
   "source": [
    "age * 5"
   ]
  },
  {
   "cell_type": "code",
   "execution_count": 14,
   "metadata": {
    "execution": {
     "iopub.execute_input": "2025-06-19T12:55:23.840719Z",
     "iopub.status.busy": "2025-06-19T12:55:23.840401Z",
     "iopub.status.idle": "2025-06-19T12:55:23.845863Z",
     "shell.execute_reply": "2025-06-19T12:55:23.845131Z",
     "shell.execute_reply.started": "2025-06-19T12:55:23.840700Z"
    }
   },
   "outputs": [
    {
     "data": {
      "text/plain": [
       "25.0"
      ]
     },
     "execution_count": 14,
     "metadata": {},
     "output_type": "execute_result"
    }
   ],
   "source": [
    "age / 2"
   ]
  },
  {
   "cell_type": "code",
   "execution_count": 15,
   "metadata": {
    "execution": {
     "iopub.execute_input": "2025-06-19T12:55:23.846976Z",
     "iopub.status.busy": "2025-06-19T12:55:23.846645Z",
     "iopub.status.idle": "2025-06-19T12:55:23.851229Z",
     "shell.execute_reply": "2025-06-19T12:55:23.850225Z",
     "shell.execute_reply.started": "2025-06-19T12:55:23.846955Z"
    }
   },
   "outputs": [
    {
     "data": {
      "text/plain": [
       "150"
      ]
     },
     "execution_count": 15,
     "metadata": {},
     "output_type": "execute_result"
    }
   ],
   "source": [
    "age * 3"
   ]
  },
  {
   "cell_type": "code",
   "execution_count": 16,
   "metadata": {
    "execution": {
     "iopub.execute_input": "2025-06-19T12:55:23.852332Z",
     "iopub.status.busy": "2025-06-19T12:55:23.852055Z",
     "iopub.status.idle": "2025-06-19T12:55:23.857203Z",
     "shell.execute_reply": "2025-06-19T12:55:23.856016Z",
     "shell.execute_reply.started": "2025-06-19T12:55:23.852314Z"
    }
   },
   "outputs": [],
   "source": [
    "# data type"
   ]
  },
  {
   "cell_type": "code",
   "execution_count": 17,
   "metadata": {
    "execution": {
     "iopub.execute_input": "2025-06-19T12:55:23.859114Z",
     "iopub.status.busy": "2025-06-19T12:55:23.858544Z",
     "iopub.status.idle": "2025-06-19T12:55:23.863968Z",
     "shell.execute_reply": "2025-06-19T12:55:23.862415Z",
     "shell.execute_reply.started": "2025-06-19T12:55:23.859096Z"
    }
   },
   "outputs": [
    {
     "data": {
      "text/plain": [
       "int"
      ]
     },
     "execution_count": 17,
     "metadata": {},
     "output_type": "execute_result"
    }
   ],
   "source": [
    "type(10)"
   ]
  },
  {
   "cell_type": "code",
   "execution_count": 18,
   "metadata": {
    "execution": {
     "iopub.execute_input": "2025-06-19T12:55:23.865043Z",
     "iopub.status.busy": "2025-06-19T12:55:23.864863Z",
     "iopub.status.idle": "2025-06-19T12:55:23.870817Z",
     "shell.execute_reply": "2025-06-19T12:55:23.869857Z",
     "shell.execute_reply.started": "2025-06-19T12:55:23.865028Z"
    }
   },
   "outputs": [
    {
     "data": {
      "text/plain": [
       "int"
      ]
     },
     "execution_count": 18,
     "metadata": {},
     "output_type": "execute_result"
    }
   ],
   "source": [
    "type(10 * 3)"
   ]
  },
  {
   "cell_type": "code",
   "execution_count": 19,
   "metadata": {
    "execution": {
     "iopub.execute_input": "2025-06-19T12:55:23.872062Z",
     "iopub.status.busy": "2025-06-19T12:55:23.871867Z",
     "iopub.status.idle": "2025-06-19T12:55:23.877337Z",
     "shell.execute_reply": "2025-06-19T12:55:23.876149Z",
     "shell.execute_reply.started": "2025-06-19T12:55:23.872046Z"
    }
   },
   "outputs": [
    {
     "data": {
      "text/plain": [
       "int"
      ]
     },
     "execution_count": 19,
     "metadata": {},
     "output_type": "execute_result"
    }
   ],
   "source": [
    "type(age * 5)"
   ]
  },
  {
   "cell_type": "code",
   "execution_count": 20,
   "metadata": {
    "execution": {
     "iopub.execute_input": "2025-06-19T12:55:23.879522Z",
     "iopub.status.busy": "2025-06-19T12:55:23.878575Z",
     "iopub.status.idle": "2025-06-19T12:55:23.883130Z",
     "shell.execute_reply": "2025-06-19T12:55:23.882104Z",
     "shell.execute_reply.started": "2025-06-19T12:55:23.879493Z"
    }
   },
   "outputs": [],
   "source": [
    "# int -> integer"
   ]
  },
  {
   "cell_type": "code",
   "execution_count": 21,
   "metadata": {
    "execution": {
     "iopub.execute_input": "2025-06-19T12:55:23.884175Z",
     "iopub.status.busy": "2025-06-19T12:55:23.883981Z",
     "iopub.status.idle": "2025-06-19T12:55:23.889928Z",
     "shell.execute_reply": "2025-06-19T12:55:23.888648Z",
     "shell.execute_reply.started": "2025-06-19T12:55:23.884160Z"
    }
   },
   "outputs": [
    {
     "data": {
      "text/plain": [
       "int"
      ]
     },
     "execution_count": 21,
     "metadata": {},
     "output_type": "execute_result"
    }
   ],
   "source": [
    "type(-1000)"
   ]
  },
  {
   "cell_type": "code",
   "execution_count": 22,
   "metadata": {
    "execution": {
     "iopub.execute_input": "2025-06-19T12:55:23.891035Z",
     "iopub.status.busy": "2025-06-19T12:55:23.890851Z",
     "iopub.status.idle": "2025-06-19T12:55:23.894122Z",
     "shell.execute_reply": "2025-06-19T12:55:23.893577Z",
     "shell.execute_reply.started": "2025-06-19T12:55:23.891020Z"
    }
   },
   "outputs": [],
   "source": [
    "x = -100"
   ]
  },
  {
   "cell_type": "code",
   "execution_count": 23,
   "metadata": {
    "execution": {
     "iopub.execute_input": "2025-06-19T12:55:23.894855Z",
     "iopub.status.busy": "2025-06-19T12:55:23.894714Z",
     "iopub.status.idle": "2025-06-19T12:55:23.900480Z",
     "shell.execute_reply": "2025-06-19T12:55:23.899750Z",
     "shell.execute_reply.started": "2025-06-19T12:55:23.894842Z"
    }
   },
   "outputs": [
    {
     "data": {
      "text/plain": [
       "int"
      ]
     },
     "execution_count": 23,
     "metadata": {},
     "output_type": "execute_result"
    }
   ],
   "source": [
    "type(x)"
   ]
  },
  {
   "cell_type": "code",
   "execution_count": 24,
   "metadata": {
    "execution": {
     "iopub.execute_input": "2025-06-19T12:55:23.901563Z",
     "iopub.status.busy": "2025-06-19T12:55:23.901424Z",
     "iopub.status.idle": "2025-06-19T12:55:23.907434Z",
     "shell.execute_reply": "2025-06-19T12:55:23.906033Z",
     "shell.execute_reply.started": "2025-06-19T12:55:23.901550Z"
    }
   },
   "outputs": [
    {
     "data": {
      "text/plain": [
       "float"
      ]
     },
     "execution_count": 24,
     "metadata": {},
     "output_type": "execute_result"
    }
   ],
   "source": [
    "type(3.14)"
   ]
  },
  {
   "cell_type": "code",
   "execution_count": 25,
   "metadata": {
    "execution": {
     "iopub.execute_input": "2025-06-19T12:55:23.908395Z",
     "iopub.status.busy": "2025-06-19T12:55:23.908222Z",
     "iopub.status.idle": "2025-06-19T12:55:23.912076Z",
     "shell.execute_reply": "2025-06-19T12:55:23.910950Z",
     "shell.execute_reply.started": "2025-06-19T12:55:23.908381Z"
    }
   },
   "outputs": [],
   "source": [
    "#float -> floating point"
   ]
  },
  {
   "cell_type": "code",
   "execution_count": 26,
   "metadata": {
    "execution": {
     "iopub.execute_input": "2025-06-19T12:55:23.912922Z",
     "iopub.status.busy": "2025-06-19T12:55:23.912746Z",
     "iopub.status.idle": "2025-06-19T12:55:23.917110Z",
     "shell.execute_reply": "2025-06-19T12:55:23.915949Z",
     "shell.execute_reply.started": "2025-06-19T12:55:23.912905Z"
    }
   },
   "outputs": [],
   "source": [
    "pi = 3.14"
   ]
  },
  {
   "cell_type": "code",
   "execution_count": 27,
   "metadata": {
    "execution": {
     "iopub.execute_input": "2025-06-19T12:55:23.918403Z",
     "iopub.status.busy": "2025-06-19T12:55:23.918180Z",
     "iopub.status.idle": "2025-06-19T12:55:23.923801Z",
     "shell.execute_reply": "2025-06-19T12:55:23.922470Z",
     "shell.execute_reply.started": "2025-06-19T12:55:23.918386Z"
    }
   },
   "outputs": [
    {
     "data": {
      "text/plain": [
       "6.28"
      ]
     },
     "execution_count": 27,
     "metadata": {},
     "output_type": "execute_result"
    }
   ],
   "source": [
    "pi * 2"
   ]
  },
  {
   "cell_type": "code",
   "execution_count": 28,
   "metadata": {
    "execution": {
     "iopub.execute_input": "2025-06-19T12:55:23.928265Z",
     "iopub.status.busy": "2025-06-19T12:55:23.927739Z",
     "iopub.status.idle": "2025-06-19T12:55:23.933722Z",
     "shell.execute_reply": "2025-06-19T12:55:23.932484Z",
     "shell.execute_reply.started": "2025-06-19T12:55:23.928243Z"
    }
   },
   "outputs": [
    {
     "data": {
      "text/plain": [
       "-100"
      ]
     },
     "execution_count": 28,
     "metadata": {},
     "output_type": "execute_result"
    }
   ],
   "source": [
    "x"
   ]
  },
  {
   "cell_type": "code",
   "execution_count": 29,
   "metadata": {
    "execution": {
     "iopub.execute_input": "2025-06-19T12:55:23.934906Z",
     "iopub.status.busy": "2025-06-19T12:55:23.934566Z",
     "iopub.status.idle": "2025-06-19T12:55:23.939563Z",
     "shell.execute_reply": "2025-06-19T12:55:23.938922Z",
     "shell.execute_reply.started": "2025-06-19T12:55:23.934891Z"
    }
   },
   "outputs": [
    {
     "data": {
      "text/plain": [
       "-96.86"
      ]
     },
     "execution_count": 29,
     "metadata": {},
     "output_type": "execute_result"
    }
   ],
   "source": [
    "x + pi"
   ]
  },
  {
   "cell_type": "code",
   "execution_count": 30,
   "metadata": {
    "execution": {
     "iopub.execute_input": "2025-06-19T12:55:23.940585Z",
     "iopub.status.busy": "2025-06-19T12:55:23.940421Z",
     "iopub.status.idle": "2025-06-19T12:55:23.946998Z",
     "shell.execute_reply": "2025-06-19T12:55:23.946256Z",
     "shell.execute_reply.started": "2025-06-19T12:55:23.940572Z"
    }
   },
   "outputs": [
    {
     "data": {
      "text/plain": [
       "-31.84713375796178"
      ]
     },
     "execution_count": 30,
     "metadata": {},
     "output_type": "execute_result"
    }
   ],
   "source": [
    "x / pi"
   ]
  },
  {
   "cell_type": "code",
   "execution_count": 31,
   "metadata": {
    "execution": {
     "iopub.execute_input": "2025-06-19T12:55:23.947800Z",
     "iopub.status.busy": "2025-06-19T12:55:23.947649Z",
     "iopub.status.idle": "2025-06-19T12:55:23.951734Z",
     "shell.execute_reply": "2025-06-19T12:55:23.950633Z",
     "shell.execute_reply.started": "2025-06-19T12:55:23.947788Z"
    }
   },
   "outputs": [],
   "source": [
    "x = 10"
   ]
  },
  {
   "cell_type": "code",
   "execution_count": 32,
   "metadata": {
    "execution": {
     "iopub.execute_input": "2025-06-19T12:55:23.952757Z",
     "iopub.status.busy": "2025-06-19T12:55:23.952589Z",
     "iopub.status.idle": "2025-06-19T12:55:23.956768Z",
     "shell.execute_reply": "2025-06-19T12:55:23.955950Z",
     "shell.execute_reply.started": "2025-06-19T12:55:23.952742Z"
    }
   },
   "outputs": [],
   "source": [
    "x = 20"
   ]
  },
  {
   "cell_type": "code",
   "execution_count": 33,
   "metadata": {
    "execution": {
     "iopub.execute_input": "2025-06-19T12:55:23.958913Z",
     "iopub.status.busy": "2025-06-19T12:55:23.958643Z",
     "iopub.status.idle": "2025-06-19T12:55:23.964745Z",
     "shell.execute_reply": "2025-06-19T12:55:23.963813Z",
     "shell.execute_reply.started": "2025-06-19T12:55:23.958891Z"
    }
   },
   "outputs": [
    {
     "data": {
      "text/plain": [
       "30"
      ]
     },
     "execution_count": 33,
     "metadata": {},
     "output_type": "execute_result"
    }
   ],
   "source": [
    "x + 10"
   ]
  },
  {
   "cell_type": "code",
   "execution_count": 34,
   "metadata": {
    "execution": {
     "iopub.execute_input": "2025-06-19T12:55:23.966196Z",
     "iopub.status.busy": "2025-06-19T12:55:23.965825Z",
     "iopub.status.idle": "2025-06-19T12:55:23.970029Z",
     "shell.execute_reply": "2025-06-19T12:55:23.968899Z",
     "shell.execute_reply.started": "2025-06-19T12:55:23.966179Z"
    }
   },
   "outputs": [],
   "source": [
    "myFloat = 1.34432423"
   ]
  },
  {
   "cell_type": "code",
   "execution_count": 35,
   "metadata": {
    "execution": {
     "iopub.execute_input": "2025-06-19T12:55:23.970851Z",
     "iopub.status.busy": "2025-06-19T12:55:23.970665Z",
     "iopub.status.idle": "2025-06-19T12:55:23.976211Z",
     "shell.execute_reply": "2025-06-19T12:55:23.975438Z",
     "shell.execute_reply.started": "2025-06-19T12:55:23.970835Z"
    }
   },
   "outputs": [
    {
     "data": {
      "text/plain": [
       "float"
      ]
     },
     "execution_count": 35,
     "metadata": {},
     "output_type": "execute_result"
    }
   ],
   "source": [
    "type(myFloat)"
   ]
  },
  {
   "cell_type": "code",
   "execution_count": 36,
   "metadata": {
    "execution": {
     "iopub.execute_input": "2025-06-19T12:55:23.977731Z",
     "iopub.status.busy": "2025-06-19T12:55:23.976977Z",
     "iopub.status.idle": "2025-06-19T12:55:23.981303Z",
     "shell.execute_reply": "2025-06-19T12:55:23.980333Z",
     "shell.execute_reply.started": "2025-06-19T12:55:23.977697Z"
    }
   },
   "outputs": [],
   "source": [
    "# camelCase\n",
    "# snake_case"
   ]
  },
  {
   "cell_type": "code",
   "execution_count": 37,
   "metadata": {
    "execution": {
     "iopub.execute_input": "2025-06-19T12:55:23.982796Z",
     "iopub.status.busy": "2025-06-19T12:55:23.982600Z",
     "iopub.status.idle": "2025-06-19T12:55:23.988207Z",
     "shell.execute_reply": "2025-06-19T12:55:23.987557Z",
     "shell.execute_reply.started": "2025-06-19T12:55:23.982781Z"
    }
   },
   "outputs": [
    {
     "data": {
      "text/plain": [
       "10.0"
      ]
     },
     "execution_count": 37,
     "metadata": {},
     "output_type": "execute_result"
    }
   ],
   "source": [
    "40 / 4"
   ]
  },
  {
   "cell_type": "code",
   "execution_count": 38,
   "metadata": {
    "execution": {
     "iopub.execute_input": "2025-06-19T12:55:23.989660Z",
     "iopub.status.busy": "2025-06-19T12:55:23.989456Z",
     "iopub.status.idle": "2025-06-19T12:55:23.995475Z",
     "shell.execute_reply": "2025-06-19T12:55:23.994373Z",
     "shell.execute_reply.started": "2025-06-19T12:55:23.989643Z"
    }
   },
   "outputs": [
    {
     "data": {
      "text/plain": [
       "float"
      ]
     },
     "execution_count": 38,
     "metadata": {},
     "output_type": "execute_result"
    }
   ],
   "source": [
    "type(40 / 4)"
   ]
  },
  {
   "cell_type": "code",
   "execution_count": 39,
   "metadata": {
    "execution": {
     "iopub.execute_input": "2025-06-19T12:55:23.996435Z",
     "iopub.status.busy": "2025-06-19T12:55:23.996263Z",
     "iopub.status.idle": "2025-06-19T12:55:24.002074Z",
     "shell.execute_reply": "2025-06-19T12:55:24.000901Z",
     "shell.execute_reply.started": "2025-06-19T12:55:23.996421Z"
    }
   },
   "outputs": [
    {
     "data": {
      "text/plain": [
       "4.444444444444445"
      ]
     },
     "execution_count": 39,
     "metadata": {},
     "output_type": "execute_result"
    }
   ],
   "source": [
    "40 / 9"
   ]
  },
  {
   "cell_type": "code",
   "execution_count": 40,
   "metadata": {
    "execution": {
     "iopub.execute_input": "2025-06-19T12:55:24.003666Z",
     "iopub.status.busy": "2025-06-19T12:55:24.003459Z",
     "iopub.status.idle": "2025-06-19T12:55:24.008119Z",
     "shell.execute_reply": "2025-06-19T12:55:24.007387Z",
     "shell.execute_reply.started": "2025-06-19T12:55:24.003650Z"
    }
   },
   "outputs": [
    {
     "data": {
      "text/plain": [
       "3.076923076923077"
      ]
     },
     "execution_count": 40,
     "metadata": {},
     "output_type": "execute_result"
    }
   ],
   "source": [
    "40 / 13"
   ]
  },
  {
   "cell_type": "code",
   "execution_count": 41,
   "metadata": {
    "execution": {
     "iopub.execute_input": "2025-06-19T12:55:24.009187Z",
     "iopub.status.busy": "2025-06-19T12:55:24.009021Z",
     "iopub.status.idle": "2025-06-19T12:55:24.014087Z",
     "shell.execute_reply": "2025-06-19T12:55:24.013245Z",
     "shell.execute_reply.started": "2025-06-19T12:55:24.009174Z"
    }
   },
   "outputs": [
    {
     "data": {
      "text/plain": [
       "2.0"
      ]
     },
     "execution_count": 41,
     "metadata": {},
     "output_type": "execute_result"
    }
   ],
   "source": [
    "4 / 2"
   ]
  },
  {
   "cell_type": "code",
   "execution_count": 42,
   "metadata": {
    "execution": {
     "iopub.execute_input": "2025-06-19T12:55:24.015226Z",
     "iopub.status.busy": "2025-06-19T12:55:24.015020Z",
     "iopub.status.idle": "2025-06-19T12:55:24.020759Z",
     "shell.execute_reply": "2025-06-19T12:55:24.020043Z",
     "shell.execute_reply.started": "2025-06-19T12:55:24.015209Z"
    }
   },
   "outputs": [
    {
     "data": {
      "text/plain": [
       "1.3333333333333333"
      ]
     },
     "execution_count": 42,
     "metadata": {},
     "output_type": "execute_result"
    }
   ],
   "source": [
    "4 / 3"
   ]
  },
  {
   "cell_type": "code",
   "execution_count": 43,
   "metadata": {
    "execution": {
     "iopub.execute_input": "2025-06-19T12:55:24.021392Z",
     "iopub.status.busy": "2025-06-19T12:55:24.021219Z",
     "iopub.status.idle": "2025-06-19T12:55:24.026693Z",
     "shell.execute_reply": "2025-06-19T12:55:24.025943Z",
     "shell.execute_reply.started": "2025-06-19T12:55:24.021374Z"
    }
   },
   "outputs": [
    {
     "data": {
      "text/plain": [
       "1.3333333333333333"
      ]
     },
     "execution_count": 43,
     "metadata": {},
     "output_type": "execute_result"
    }
   ],
   "source": [
    "4.0 / 3.0"
   ]
  },
  {
   "cell_type": "code",
   "execution_count": 44,
   "metadata": {
    "execution": {
     "iopub.execute_input": "2025-06-19T12:55:24.027699Z",
     "iopub.status.busy": "2025-06-19T12:55:24.027533Z",
     "iopub.status.idle": "2025-06-19T12:55:24.032880Z",
     "shell.execute_reply": "2025-06-19T12:55:24.032022Z",
     "shell.execute_reply.started": "2025-06-19T12:55:24.027684Z"
    }
   },
   "outputs": [
    {
     "data": {
      "text/plain": [
       "int"
      ]
     },
     "execution_count": 44,
     "metadata": {},
     "output_type": "execute_result"
    }
   ],
   "source": [
    "type(4)"
   ]
  },
  {
   "cell_type": "code",
   "execution_count": 45,
   "metadata": {
    "execution": {
     "iopub.execute_input": "2025-06-19T12:55:24.033845Z",
     "iopub.status.busy": "2025-06-19T12:55:24.033685Z",
     "iopub.status.idle": "2025-06-19T12:55:24.038618Z",
     "shell.execute_reply": "2025-06-19T12:55:24.037882Z",
     "shell.execute_reply.started": "2025-06-19T12:55:24.033832Z"
    }
   },
   "outputs": [
    {
     "data": {
      "text/plain": [
       "float"
      ]
     },
     "execution_count": 45,
     "metadata": {},
     "output_type": "execute_result"
    }
   ],
   "source": [
    "type(4.0)"
   ]
  },
  {
   "cell_type": "code",
   "execution_count": 46,
   "metadata": {
    "execution": {
     "iopub.execute_input": "2025-06-19T12:55:24.040371Z",
     "iopub.status.busy": "2025-06-19T12:55:24.039768Z",
     "iopub.status.idle": "2025-06-19T12:55:24.045297Z",
     "shell.execute_reply": "2025-06-19T12:55:24.044594Z",
     "shell.execute_reply.started": "2025-06-19T12:55:24.040342Z"
    }
   },
   "outputs": [
    {
     "data": {
      "text/plain": [
       "8"
      ]
     },
     "execution_count": 46,
     "metadata": {},
     "output_type": "execute_result"
    }
   ],
   "source": [
    "4 * 2"
   ]
  },
  {
   "cell_type": "code",
   "execution_count": 47,
   "metadata": {
    "execution": {
     "iopub.execute_input": "2025-06-19T12:55:24.046797Z",
     "iopub.status.busy": "2025-06-19T12:55:24.046498Z",
     "iopub.status.idle": "2025-06-19T12:55:24.051942Z",
     "shell.execute_reply": "2025-06-19T12:55:24.051186Z",
     "shell.execute_reply.started": "2025-06-19T12:55:24.046778Z"
    }
   },
   "outputs": [
    {
     "data": {
      "text/plain": [
       "6"
      ]
     },
     "execution_count": 47,
     "metadata": {},
     "output_type": "execute_result"
    }
   ],
   "source": [
    "4 + 2"
   ]
  },
  {
   "cell_type": "code",
   "execution_count": 48,
   "metadata": {
    "execution": {
     "iopub.execute_input": "2025-06-19T12:55:24.052792Z",
     "iopub.status.busy": "2025-06-19T12:55:24.052638Z",
     "iopub.status.idle": "2025-06-19T12:55:24.058297Z",
     "shell.execute_reply": "2025-06-19T12:55:24.057354Z",
     "shell.execute_reply.started": "2025-06-19T12:55:24.052779Z"
    }
   },
   "outputs": [
    {
     "data": {
      "text/plain": [
       "2"
      ]
     },
     "execution_count": 48,
     "metadata": {},
     "output_type": "execute_result"
    }
   ],
   "source": [
    "4 - 2"
   ]
  },
  {
   "cell_type": "code",
   "execution_count": 49,
   "metadata": {
    "execution": {
     "iopub.execute_input": "2025-06-19T12:55:24.059328Z",
     "iopub.status.busy": "2025-06-19T12:55:24.059069Z",
     "iopub.status.idle": "2025-06-19T12:55:24.064440Z",
     "shell.execute_reply": "2025-06-19T12:55:24.063295Z",
     "shell.execute_reply.started": "2025-06-19T12:55:24.059313Z"
    }
   },
   "outputs": [
    {
     "data": {
      "text/plain": [
       "2.0"
      ]
     },
     "execution_count": 49,
     "metadata": {},
     "output_type": "execute_result"
    }
   ],
   "source": [
    "4.0 - 2"
   ]
  },
  {
   "cell_type": "code",
   "execution_count": 50,
   "metadata": {
    "execution": {
     "iopub.execute_input": "2025-06-19T12:55:24.065650Z",
     "iopub.status.busy": "2025-06-19T12:55:24.065407Z",
     "iopub.status.idle": "2025-06-19T12:55:24.072306Z",
     "shell.execute_reply": "2025-06-19T12:55:24.071514Z",
     "shell.execute_reply.started": "2025-06-19T12:55:24.065626Z"
    }
   },
   "outputs": [
    {
     "data": {
      "text/plain": [
       "2.0999999999999996"
      ]
     },
     "execution_count": 50,
     "metadata": {},
     "output_type": "execute_result"
    }
   ],
   "source": [
    "4.1 - 2"
   ]
  },
  {
   "cell_type": "code",
   "execution_count": 51,
   "metadata": {
    "execution": {
     "iopub.execute_input": "2025-06-19T12:55:24.073177Z",
     "iopub.status.busy": "2025-06-19T12:55:24.072985Z",
     "iopub.status.idle": "2025-06-19T12:55:24.078058Z",
     "shell.execute_reply": "2025-06-19T12:55:24.077173Z",
     "shell.execute_reply.started": "2025-06-19T12:55:24.073163Z"
    }
   },
   "outputs": [
    {
     "data": {
      "text/plain": [
       "2.2"
      ]
     },
     "execution_count": 51,
     "metadata": {},
     "output_type": "execute_result"
    }
   ],
   "source": [
    "4.2 - 2"
   ]
  },
  {
   "cell_type": "code",
   "execution_count": 52,
   "metadata": {
    "execution": {
     "iopub.execute_input": "2025-06-19T12:55:24.079221Z",
     "iopub.status.busy": "2025-06-19T12:55:24.078852Z",
     "iopub.status.idle": "2025-06-19T12:55:24.083758Z",
     "shell.execute_reply": "2025-06-19T12:55:24.082459Z",
     "shell.execute_reply.started": "2025-06-19T12:55:24.079204Z"
    }
   },
   "outputs": [
    {
     "data": {
      "text/plain": [
       "2.3"
      ]
     },
     "execution_count": 52,
     "metadata": {},
     "output_type": "execute_result"
    }
   ],
   "source": [
    "4.3 -2 "
   ]
  },
  {
   "cell_type": "code",
   "execution_count": 53,
   "metadata": {
    "execution": {
     "iopub.execute_input": "2025-06-19T12:55:24.085684Z",
     "iopub.status.busy": "2025-06-19T12:55:24.085138Z",
     "iopub.status.idle": "2025-06-19T12:55:24.090243Z",
     "shell.execute_reply": "2025-06-19T12:55:24.089238Z",
     "shell.execute_reply.started": "2025-06-19T12:55:24.085664Z"
    }
   },
   "outputs": [
    {
     "data": {
      "text/plain": [
       "2.4000000000000004"
      ]
     },
     "execution_count": 53,
     "metadata": {},
     "output_type": "execute_result"
    }
   ],
   "source": [
    "4.4 - 2"
   ]
  },
  {
   "cell_type": "code",
   "execution_count": 54,
   "metadata": {
    "execution": {
     "iopub.execute_input": "2025-06-19T12:55:24.091055Z",
     "iopub.status.busy": "2025-06-19T12:55:24.090903Z",
     "iopub.status.idle": "2025-06-19T12:55:24.095668Z",
     "shell.execute_reply": "2025-06-19T12:55:24.094870Z",
     "shell.execute_reply.started": "2025-06-19T12:55:24.091042Z"
    }
   },
   "outputs": [
    {
     "data": {
      "text/plain": [
       "2.5"
      ]
     },
     "execution_count": 54,
     "metadata": {},
     "output_type": "execute_result"
    }
   ],
   "source": [
    "4.5 - 2"
   ]
  },
  {
   "cell_type": "code",
   "execution_count": 55,
   "metadata": {
    "execution": {
     "iopub.execute_input": "2025-06-19T12:55:24.096670Z",
     "iopub.status.busy": "2025-06-19T12:55:24.096516Z",
     "iopub.status.idle": "2025-06-19T12:55:24.102331Z",
     "shell.execute_reply": "2025-06-19T12:55:24.101292Z",
     "shell.execute_reply.started": "2025-06-19T12:55:24.096657Z"
    }
   },
   "outputs": [
    {
     "data": {
      "text/plain": [
       "float"
      ]
     },
     "execution_count": 55,
     "metadata": {},
     "output_type": "execute_result"
    }
   ],
   "source": [
    "type(4.5 - 2)"
   ]
  },
  {
   "cell_type": "code",
   "execution_count": 56,
   "metadata": {
    "execution": {
     "iopub.execute_input": "2025-06-19T12:55:24.103240Z",
     "iopub.status.busy": "2025-06-19T12:55:24.103072Z",
     "iopub.status.idle": "2025-06-19T12:55:24.107882Z",
     "shell.execute_reply": "2025-06-19T12:55:24.106772Z",
     "shell.execute_reply.started": "2025-06-19T12:55:24.103226Z"
    }
   },
   "outputs": [
    {
     "data": {
      "text/plain": [
       "12.600000000000001"
      ]
     },
     "execution_count": 56,
     "metadata": {},
     "output_type": "execute_result"
    }
   ],
   "source": [
    "4.2 * 3"
   ]
  },
  {
   "cell_type": "code",
   "execution_count": 57,
   "metadata": {
    "execution": {
     "iopub.execute_input": "2025-06-19T12:55:24.109315Z",
     "iopub.status.busy": "2025-06-19T12:55:24.109133Z",
     "iopub.status.idle": "2025-06-19T12:55:24.114457Z",
     "shell.execute_reply": "2025-06-19T12:55:24.113718Z",
     "shell.execute_reply.started": "2025-06-19T12:55:24.109301Z"
    }
   },
   "outputs": [
    {
     "data": {
      "text/plain": [
       "13.440000000000001"
      ]
     },
     "execution_count": 57,
     "metadata": {},
     "output_type": "execute_result"
    }
   ],
   "source": [
    "4.2 * 3.2"
   ]
  },
  {
   "cell_type": "code",
   "execution_count": 58,
   "metadata": {
    "execution": {
     "iopub.execute_input": "2025-06-19T12:55:24.115482Z",
     "iopub.status.busy": "2025-06-19T12:55:24.115237Z",
     "iopub.status.idle": "2025-06-19T12:55:24.120409Z",
     "shell.execute_reply": "2025-06-19T12:55:24.119760Z",
     "shell.execute_reply.started": "2025-06-19T12:55:24.115465Z"
    }
   },
   "outputs": [
    {
     "data": {
      "text/plain": [
       "2.6000000000000014"
      ]
     },
     "execution_count": 58,
     "metadata": {},
     "output_type": "execute_result"
    }
   ],
   "source": [
    "4.2 * 3 - 10"
   ]
  },
  {
   "cell_type": "code",
   "execution_count": 59,
   "metadata": {
    "execution": {
     "iopub.execute_input": "2025-06-19T12:55:24.121926Z",
     "iopub.status.busy": "2025-06-19T12:55:24.121713Z",
     "iopub.status.idle": "2025-06-19T12:55:24.126529Z",
     "shell.execute_reply": "2025-06-19T12:55:24.125643Z",
     "shell.execute_reply.started": "2025-06-19T12:55:24.121910Z"
    }
   },
   "outputs": [
    {
     "data": {
      "text/plain": [
       "-18"
      ]
     },
     "execution_count": 59,
     "metadata": {},
     "output_type": "execute_result"
    }
   ],
   "source": [
    "2 - 10 * 2"
   ]
  },
  {
   "cell_type": "code",
   "execution_count": 60,
   "metadata": {
    "execution": {
     "iopub.execute_input": "2025-06-19T12:55:24.128141Z",
     "iopub.status.busy": "2025-06-19T12:55:24.127714Z",
     "iopub.status.idle": "2025-06-19T12:55:24.133882Z",
     "shell.execute_reply": "2025-06-19T12:55:24.132656Z",
     "shell.execute_reply.started": "2025-06-19T12:55:24.128122Z"
    }
   },
   "outputs": [
    {
     "data": {
      "text/plain": [
       "32"
      ]
     },
     "execution_count": 60,
     "metadata": {},
     "output_type": "execute_result"
    }
   ],
   "source": [
    "2 * 2 * 2 * 2 * 2"
   ]
  },
  {
   "cell_type": "code",
   "execution_count": 61,
   "metadata": {
    "execution": {
     "iopub.execute_input": "2025-06-19T12:55:24.136479Z",
     "iopub.status.busy": "2025-06-19T12:55:24.135552Z",
     "iopub.status.idle": "2025-06-19T12:55:24.142000Z",
     "shell.execute_reply": "2025-06-19T12:55:24.141083Z",
     "shell.execute_reply.started": "2025-06-19T12:55:24.136417Z"
    }
   },
   "outputs": [
    {
     "data": {
      "text/plain": [
       "32"
      ]
     },
     "execution_count": 61,
     "metadata": {},
     "output_type": "execute_result"
    }
   ],
   "source": [
    "2 ** 5"
   ]
  },
  {
   "cell_type": "code",
   "execution_count": 62,
   "metadata": {
    "execution": {
     "iopub.execute_input": "2025-06-19T12:55:24.143421Z",
     "iopub.status.busy": "2025-06-19T12:55:24.143178Z",
     "iopub.status.idle": "2025-06-19T12:55:24.149063Z",
     "shell.execute_reply": "2025-06-19T12:55:24.147585Z",
     "shell.execute_reply.started": "2025-06-19T12:55:24.143402Z"
    }
   },
   "outputs": [
    {
     "data": {
      "text/plain": [
       "512"
      ]
     },
     "execution_count": 62,
     "metadata": {},
     "output_type": "execute_result"
    }
   ],
   "source": [
    "2 ** 9"
   ]
  },
  {
   "cell_type": "code",
   "execution_count": 63,
   "metadata": {
    "execution": {
     "iopub.execute_input": "2025-06-19T12:55:24.150936Z",
     "iopub.status.busy": "2025-06-19T12:55:24.150663Z",
     "iopub.status.idle": "2025-06-19T12:55:24.158644Z",
     "shell.execute_reply": "2025-06-19T12:55:24.157095Z",
     "shell.execute_reply.started": "2025-06-19T12:55:24.150915Z"
    }
   },
   "outputs": [
    {
     "data": {
      "text/plain": [
       "1"
      ]
     },
     "execution_count": 63,
     "metadata": {},
     "output_type": "execute_result"
    }
   ],
   "source": [
    "10 % 3 # remainder"
   ]
  },
  {
   "cell_type": "code",
   "execution_count": 64,
   "metadata": {
    "execution": {
     "iopub.execute_input": "2025-06-19T12:55:24.159629Z",
     "iopub.status.busy": "2025-06-19T12:55:24.159436Z",
     "iopub.status.idle": "2025-06-19T12:55:24.166650Z",
     "shell.execute_reply": "2025-06-19T12:55:24.165067Z",
     "shell.execute_reply.started": "2025-06-19T12:55:24.159613Z"
    }
   },
   "outputs": [
    {
     "data": {
      "text/plain": [
       "0"
      ]
     },
     "execution_count": 64,
     "metadata": {},
     "output_type": "execute_result"
    }
   ],
   "source": [
    "10 % 2"
   ]
  },
  {
   "cell_type": "code",
   "execution_count": 65,
   "metadata": {
    "execution": {
     "iopub.execute_input": "2025-06-19T12:55:24.168670Z",
     "iopub.status.busy": "2025-06-19T12:55:24.168398Z",
     "iopub.status.idle": "2025-06-19T12:55:24.175584Z",
     "shell.execute_reply": "2025-06-19T12:55:24.174213Z",
     "shell.execute_reply.started": "2025-06-19T12:55:24.168645Z"
    }
   },
   "outputs": [
    {
     "data": {
      "text/plain": [
       "2"
      ]
     },
     "execution_count": 65,
     "metadata": {},
     "output_type": "execute_result"
    }
   ],
   "source": [
    "10 % 4"
   ]
  },
  {
   "cell_type": "code",
   "execution_count": null,
   "metadata": {},
   "outputs": [],
   "source": []
  }
 ],
 "metadata": {
  "kernelspec": {
   "display_name": "Python 3 (ipykernel)",
   "language": "python",
   "name": "python3"
  },
  "language_info": {
   "codemirror_mode": {
    "name": "ipython",
    "version": 3
   },
   "file_extension": ".py",
   "mimetype": "text/x-python",
   "name": "python",
   "nbconvert_exporter": "python",
   "pygments_lexer": "ipython3",
   "version": "3.12.9"
  }
 },
 "nbformat": 4,
 "nbformat_minor": 4
}
